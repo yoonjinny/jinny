{
 "cells": [
  {
   "cell_type": "markdown",
   "id": "259721bd-35c8-41ed-bb2a-18619316adbe",
   "metadata": {},
   "source": [
    "### 라이브러리 설치"
   ]
  },
  {
   "cell_type": "code",
   "execution_count": 3,
   "id": "7423f920-ac03-4afd-8a6b-c76c1e052e5f",
   "metadata": {},
   "outputs": [],
   "source": [
    "import numpy as np\n",
    "import os\n",
    "import tensorflow as tf\n",
    "from tensorflow.keras.datasets import cifar10\n",
    "from tensorflow.keras.models import Sequential\n",
    "from tensorflow.keras.layers import Conv2D,MaxPooling2D\n",
    "from tensorflow.keras.layers import Flatten,Dense,Dropout\n",
    "from tensorflow.keras.optimizers import Adam, RMSprop\n",
    "#from tensorflow.keras.callbacks import ModelCheckpoint, EarlyStopping\n",
    "from tensorflow.keras.preprocessing.image import ImageDataGenerator"
   ]
  },
  {
   "cell_type": "markdown",
   "id": "cc777440-f1db-4957-b8e3-0cdbe65bad94",
   "metadata": {},
   "source": [
    "### 데이터 읽기"
   ]
  },
  {
   "cell_type": "code",
   "execution_count": 4,
   "id": "64875f13-38f8-45fe-8c07-e8d59039a6b0",
   "metadata": {},
   "outputs": [],
   "source": [
    "(x_train, y_train),(x_test,y_test)=cifar10.load_data()"
   ]
  },
  {
   "cell_type": "code",
   "execution_count": 7,
   "id": "a75b624f-b8ef-4918-9331-8b064c555785",
   "metadata": {},
   "outputs": [],
   "source": [
    "###데이터 정규화\n",
    "x_train=x_train.astype(np.float32)/255\n",
    "x_test=x_test.astype(np.float32)/255"
   ]
  },
  {
   "cell_type": "code",
   "execution_count": 9,
   "id": "8e73783b-f238-4dd9-a9fc-956dc7988aa0",
   "metadata": {},
   "outputs": [
    {
     "name": "stdout",
     "output_type": "stream",
     "text": [
      "(50000, 32, 32, 3) (10000, 32, 32, 3)\n",
      "(50000, 1) (10000, 1)\n"
     ]
    }
   ],
   "source": [
    "print(x_train.shape, x_test.shape)\n",
    "print(y_train.shape, y_test.shape)"
   ]
  },
  {
   "cell_type": "markdown",
   "id": "83143de4-1572-43d0-ae94-f55a86bc8e82",
   "metadata": {},
   "source": [
    "### 데이터 증강 (150% 증대)"
   ]
  },
  {
   "cell_type": "code",
   "execution_count": 11,
   "id": "3a24ab6a-a2f1-416e-b379-2b659ab60112",
   "metadata": {},
   "outputs": [],
   "source": [
    "gen = ImageDataGenerator(rotation_range=20, #회전\n",
    "                         shear_range=0.2, #기울기\n",
    "                         width_shift_range=0.2,\n",
    "                         height_shift_range=0.2,\n",
    "                         horizontal_flip=True)"
   ]
  },
  {
   "cell_type": "code",
   "execution_count": 13,
   "id": "31e65f05-0ec7-4638-88d8-dc3d42553252",
   "metadata": {},
   "outputs": [
    {
     "name": "stdout",
     "output_type": "stream",
     "text": [
      "75000\n"
     ]
    }
   ],
   "source": [
    "# 보강할 학습데이터 이미지 생성\n",
    "augment_ratio = 1.5   # 전체 데이터의 150%\n",
    "augment_size = int(augment_ratio * x_train.shape[0])\n",
    "print(augment_size)"
   ]
  },
  {
   "cell_type": "code",
   "execution_count": 15,
   "id": "d04cf694-876d-4f5b-91f8-97cfa11e754b",
   "metadata": {},
   "outputs": [],
   "source": [
    "# 전체 x_train 개수의 150% 비율만큼\n",
    "randidx = np.random.randint(x_train.shape[0], size=augment_size)"
   ]
  },
  {
   "cell_type": "markdown",
   "id": "a899940e-0e38-4f57-8a8a-3c83911b8b5c",
   "metadata": {},
   "source": [
    "np.random.randint는 랜덤한 인덱스를 생성하는 함수로 특정 범위 내에서 정수를 임의로 선택하는 함수입니다.\n",
    "-x_train.shape[0]은 원본 데이터셋의 갯수를 나타냅니다.\n",
    "-np.random.randint(50000,size=75000)\n",
    "\n",
    "0부터 50,000사이의 랜덤한 정수를 75000개를 생성하고,\n",
    "이렇게 생성한 랜덤한 숫자들은 x_train과 y_train에서 무작위로 데이터를 선택하기 위한 인덱스입니다."
   ]
  },
  {
   "cell_type": "code",
   "execution_count": 17,
   "id": "1bbfd77f-ab83-4f19-b83d-a80bff941169",
   "metadata": {},
   "outputs": [
    {
     "name": "stdout",
     "output_type": "stream",
     "text": [
      "(75000, 32, 32, 3) (75000, 1)\n",
      "<class 'numpy.ndarray'>\n"
     ]
    }
   ],
   "source": [
    "# 임의로 선택된 데이터는 원본데이터를 참조하기 때문에 원본데이터에 영향을 줄수 있음. \n",
    "#그래서 copy() 함수를 통해 안전하게 복사본 만듬\n",
    "x_augmented = x_train[randidx].copy()  \n",
    "y_augmented = y_train[randidx].copy()\n",
    "print(x_augmented.shape, y_augmented.shape)\n",
    "print(type(x_augmented))"
   ]
  },
  {
   "cell_type": "code",
   "execution_count": 19,
   "id": "8cc01ee8-1308-4a4a-97eb-85d096ef6eb9",
   "metadata": {},
   "outputs": [
    {
     "name": "stdout",
     "output_type": "stream",
     "text": [
      "(75000, 32, 32, 3) (75000, 1)\n"
     ]
    }
   ],
   "source": [
    "#  이미지 보강 실행\n",
    "x_augmented, y_augmented = gen.flow(x_augmented, \n",
    "                                    y_augmented,batch_size=augment_size, \n",
    "                                    shuffle=False).__next__()\n",
    "print(x_augmented.shape, y_augmented.shape)"
   ]
  },
  {
   "cell_type": "code",
   "execution_count": 20,
   "id": "579daf4f-2343-4907-aa3a-652e5889c44c",
   "metadata": {},
   "outputs": [
    {
     "name": "stdout",
     "output_type": "stream",
     "text": [
      "(125000, 32, 32, 3) (125000, 1)\n"
     ]
    }
   ],
   "source": [
    "# x_train, y_train 에 보강된 데이터 추가\n",
    "x_train = np.concatenate( (x_train, x_augmented) )\n",
    "y_train = np.concatenate( (y_train, y_augmented) )\n",
    "\n",
    "print(x_train.shape, y_train.shape)"
   ]
  },
  {
   "cell_type": "code",
   "execution_count": null,
   "id": "439d2ddd-9b3c-456b-b91d-3c5d5a48ae44",
   "metadata": {},
   "outputs": [],
   "source": [
    "# CNN 모델 구축\n",
    "cnn=Sequential()"
   ]
  },
  {
   "cell_type": "code",
   "execution_count": null,
   "id": "3abbfb27-4068-44ca-9d04-bb5b25f4ccf6",
   "metadata": {},
   "outputs": [],
   "source": [
    "cnn.add(Conv2D(32,(3,3),activation='relu', padding='same',input_shape=(32,32,3))) #높이,너비,채널\n",
    "cnn.add(Conv2D(32,(3,3),activation='relu', padding='same'))\n",
    "cnn.add(MaxPooling2D(pool_size=(2,2)))\n",
    "cnn.add(Dropout(0.25))\n",
    "\n",
    "cnn.add(Conv2D(64,(3,3),activation='relu', padding='same'))\n",
    "cnn.add(Conv2D(64,(3,3),activation='relu', padding='same'))\n",
    "cnn.add(MaxPooling2D(pool_size=(2,2)))\n",
    "cnn.add(Dropout(0.25))\n",
    "\n",
    "cnn.add(Conv2D(128,(3,3),activation='relu', padding='same'))\n",
    "cnn.add(MaxPooling2D(pool_size=(2,2)))\n",
    "cnn.add(Dropout(0.25))\n",
    "cnn.add(Conv2D(128,(3,3),activation='relu', padding='same'))\n",
    "cnn.add(MaxPooling2D(pool_size=(2,2)))\n",
    "cnn.add(Dropout(0.25))\n",
    "cnn.add(Conv2D(256,(3,3),activation='relu', padding='same'))\n",
    "cnn.add(MaxPooling2D(pool_size=(2,2)))\n",
    "cnn.add(Dropout(0.25))\n",
    "\n",
    "cnn.add(Flatten()) #3차원 텐서를 1차원 벡터로 변환\n",
    "\n",
    "cnn.add(Dense(128,activation='relu')) #은닉층 개념\n",
    "cnn.add(Dropout(0.5))\n",
    "cnn.add(Dense(10,activation='softmax')) #출력층 \n",
    "\n",
    "cnn.summary()"
   ]
  },
  {
   "cell_type": "code",
   "execution_count": null,
   "id": "7a877da8-7b30-44a5-a310-1a8cce0b8933",
   "metadata": {},
   "outputs": [],
   "source": [
    "#컴퓨터 서버 스펙이 부족해서...250 epoch 돌리는게 어렵네요 ;;\n",
    "cnn.compile(loss='sparse_categorical_crossentropy',optimizer=Adam(),metrics=['accuracy'])\n",
    "hist=cnn.fit(x_train,y_train,batch_size=256,epochs=250,validation_data=(x_test,y_test))"
   ]
  },
  {
   "cell_type": "code",
   "execution_count": null,
   "id": "6118a796-25ad-4fbd-bb04-edba76e4a8df",
   "metadata": {},
   "outputs": [],
   "source": [
    "cnn.evaluate(x_test,y_test)"
   ]
  },
  {
   "cell_type": "code",
   "execution_count": null,
   "id": "bc1853a0-147b-45d8-9cd3-906b62e95c85",
   "metadata": {},
   "outputs": [],
   "source": [
    "import matplotlib.pyplot as plt\n",
    "\n",
    "plt.plot(hist.history['accuracy'])\n",
    "plt.plot(hist.history['val_accuracy'])\n",
    "plt.title('Accuracy Trend')\n",
    "plt.ylabel('accuracy')\n",
    "plt.xlabel('epoch')\n",
    "plt.legend(['train','validation'], loc='best')\n",
    "plt.grid()\n",
    "plt.show()"
   ]
  },
  {
   "cell_type": "code",
   "execution_count": null,
   "id": "aa9dd006-d03a-4be8-94ad-29bcaf4f1124",
   "metadata": {},
   "outputs": [],
   "source": [
    "plt.plot(hist.history['loss'])\n",
    "plt.plot(hist.history['val_loss'])\n",
    "plt.title('Loss Trend')\n",
    "plt.ylabel('loss')\n",
    "plt.xlabel('epoch')\n",
    "plt.legend(['train','validation'], loc='best')\n",
    "plt.grid()\n",
    "plt.show()"
   ]
  }
 ],
 "metadata": {
  "kernelspec": {
   "display_name": "Python 3 (ipykernel)",
   "language": "python",
   "name": "python3"
  },
  "language_info": {
   "codemirror_mode": {
    "name": "ipython",
    "version": 3
   },
   "file_extension": ".py",
   "mimetype": "text/x-python",
   "name": "python",
   "nbconvert_exporter": "python",
   "pygments_lexer": "ipython3",
   "version": "3.12.4"
  }
 },
 "nbformat": 4,
 "nbformat_minor": 5
}
