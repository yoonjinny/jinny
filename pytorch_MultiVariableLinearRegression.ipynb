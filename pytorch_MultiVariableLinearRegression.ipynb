{
 "cells": [
  {
   "cell_type": "markdown",
   "id": "28ca0da8-b0e5-4ad6-80a9-8a14205fa36c",
   "metadata": {},
   "source": [
    "# 다중 선형회귀 파이토치 모델 구축"
   ]
  },
  {
   "cell_type": "markdown",
   "id": "c7af04d5-3d8b-468c-9a42-ff04265ab72b",
   "metadata": {},
   "source": [
    "## 1. 데이터 정의"
   ]
  },
  {
   "cell_type": "markdown",
   "id": "fb5fc16a-db5b-48ae-bda5-ea5d572d46d5",
   "metadata": {},
   "source": [
    "### 1.1 데이터 불러오기"
   ]
  },
  {
   "cell_type": "code",
   "execution_count": 4,
   "id": "6fe08075-914e-4be9-9b8d-b59e0f98a19d",
   "metadata": {},
   "outputs": [],
   "source": [
    "# 라이브러리 설치\n",
    "import numpy as np\n",
    "loaded_data=np.loadtxt('LEC06_TrainData.csv', delimiter=',')"
   ]
  },
  {
   "cell_type": "code",
   "execution_count": 5,
   "id": "5e2b925e-d147-4521-970e-473a4c05059f",
   "metadata": {},
   "outputs": [
    {
     "name": "stdout",
     "output_type": "stream",
     "text": [
      "[[ 1.  2.  0. -4.]\n",
      " [ 5.  4.  3.  4.]\n",
      " [ 1.  2. -1. -6.]]\n",
      "==============\n",
      "[[ 1.  2.  0.]\n",
      " [ 5.  4.  3.]\n",
      " [ 1.  2. -1.]]\n",
      "==============\n",
      "[[-4.]\n",
      " [ 4.]\n",
      " [-6.]]\n"
     ]
    }
   ],
   "source": [
    "#학습할 설명변수 x,y 구조 설계하기\n",
    "\n",
    "x_train_np = loaded_data[ : , 0:-1] #모든행에 대해서, 마지막 열 앞까지만 \n",
    "y_train_np = loaded_data[ : , [-1]] #모든행에 대해서, 마지막 열만 추출\n",
    "\n",
    "print(loaded_data[:3])\n",
    "print(\"==============\")\n",
    "print(x_train_np[:3])\n",
    "print(\"==============\")\n",
    "print(y_train_np[:3])"
   ]
  },
  {
   "cell_type": "markdown",
   "id": "eb369d6c-6e74-4678-b3f9-6f44fd9a42d4",
   "metadata": {},
   "source": [
    "### 1.2 텐서 데이터로 변환"
   ]
  },
  {
   "cell_type": "code",
   "execution_count": 7,
   "id": "aaf6393e-1569-4191-b0fe-d0ef1b18171f",
   "metadata": {},
   "outputs": [],
   "source": [
    "#1. 파이토치 데이터셋 구성 - 데이터를 파이토치 딥러닝 단위인 tensor로 변환시켜줘야 함!\n",
    "import torch\n",
    "from torch import nn\n",
    "\n",
    "x_train=torch.Tensor(x_train_np) #넘파이로부터 파이토치 생성\n",
    "y_train=torch.Tensor(y_train_np)"
   ]
  },
  {
   "cell_type": "markdown",
   "id": "20781c3f-fad6-4718-9e88-ec1acc092308",
   "metadata": {},
   "source": [
    "## 2. 신경망 모델 구축"
   ]
  },
  {
   "cell_type": "markdown",
   "id": "2e6f3adb-1095-49eb-a34f-ab8a05d1923d",
   "metadata": {},
   "source": [
    "### 2.1 모델 설계 (Layers, forward 정의)"
   ]
  },
  {
   "cell_type": "code",
   "execution_count": 10,
   "id": "7c063925-178f-4a5e-939b-6c9e2783ed5c",
   "metadata": {},
   "outputs": [],
   "source": [
    "# 2. 파이토치 선형회귀 모델 구축\n",
    "from torch import nn\n",
    "\n",
    "class MyLinearRegressionModel(nn.Module):\n",
    "\n",
    "    def __init__(self, input_nodes):\n",
    "        super().__init__()\n",
    "        self.linear_stack = nn.Sequential(\n",
    "            nn.Linear(input_nodes, 1) ## (nn.Linear 계층 입력 데이터 노드 수, 출력 데이터 노드 수=1)\n",
    "        )\n",
    "\n",
    "    def forward(self, data):\n",
    "        prediction = self.linear_stack(data)\n",
    "\n",
    "        return prediction"
   ]
  },
  {
   "cell_type": "code",
   "execution_count": 11,
   "id": "9ff14eed-e49f-4a0e-b334-817a3f469814",
   "metadata": {},
   "outputs": [
    {
     "name": "stdout",
     "output_type": "stream",
     "text": [
      "linear_stack Parameter containing:\n",
      "tensor([[-0.2570,  0.0832, -0.0323]], requires_grad=True)\n",
      "linear_stack Parameter containing:\n",
      "tensor([0.4282], requires_grad=True)\n"
     ]
    }
   ],
   "source": [
    "model = MyLinearRegressionModel(3) ## 괄호 안의 3은, 입력 데이터가 3개인 선형회귀 모델 인스턴스 생성\n",
    "\n",
    "for name, child in model.named_children(): # 모델 파라미터 (가중치, 바이어스 초기 값 확인해보기)\n",
    "    for param in child.parameters():\n",
    "        print(name,param)"
   ]
  },
  {
   "cell_type": "markdown",
   "id": "9a4a301e-d128-4e89-932c-8eabba328798",
   "metadata": {},
   "source": [
    "### 2.2 손실함수/옵티마이저 설정"
   ]
  },
  {
   "cell_type": "code",
   "execution_count": 13,
   "id": "44606beb-3fea-4a06-bfcc-881c9c738209",
   "metadata": {},
   "outputs": [],
   "source": [
    "## 3. 손실함수 옵티마이저 설정\n",
    "\n",
    "loss_function=nn.MSELoss() #선형회귀 문제이므로 손실함수는 평균제곱오차인 nn.MSELoss()\n",
    "optimizer=torch.optim.SGD(model.parameters(),lr=1e-2) #옵티마이저는 확률적 경사하강법 SGD 차용"
   ]
  },
  {
   "cell_type": "markdown",
   "id": "2f70eb04-d09f-459f-8b6d-907809adc129",
   "metadata": {},
   "source": [
    "### 2.3 학습"
   ]
  },
  {
   "cell_type": "code",
   "execution_count": 15,
   "id": "d98fdc68-01f4-46e8-adf0-7402b506f224",
   "metadata": {},
   "outputs": [
    {
     "name": "stdout",
     "output_type": "stream",
     "text": [
      "epoch =  0  current loss =  26.092641830444336\n",
      "epoch =  100  current loss =  0.19461707770824432\n",
      "epoch =  200  current loss =  0.008736503310501575\n",
      "epoch =  300  current loss =  0.002504696836695075\n",
      "epoch =  400  current loss =  0.000842760899104178\n",
      "epoch =  500  current loss =  0.0002847191644832492\n",
      "epoch =  600  current loss =  9.619629418011755e-05\n",
      "epoch =  700  current loss =  3.250113149988465e-05\n",
      "epoch =  800  current loss =  1.0982835192407947e-05\n",
      "epoch =  900  current loss =  3.7112247355253203e-06\n",
      "epoch =  1000  current loss =  1.2542700460471679e-06\n",
      "epoch =  1100  current loss =  4.24012824851161e-07\n",
      "epoch =  1200  current loss =  1.434666927480066e-07\n",
      "epoch =  1300  current loss =  4.858311797306669e-08\n",
      "epoch =  1400  current loss =  1.654787062932428e-08\n",
      "epoch =  1500  current loss =  5.588368434672475e-09\n",
      "epoch =  1600  current loss =  1.9047072807865106e-09\n",
      "epoch =  1700  current loss =  6.758522630434527e-10\n",
      "epoch =  1800  current loss =  2.4547130994534427e-10\n",
      "epoch =  1900  current loss =  1.0655606952347796e-10\n",
      "epoch =  2000  current loss =  5.14084781688684e-11\n",
      "epoch =  2100  current loss =  3.2829374635445774e-11\n",
      "epoch =  2200  current loss =  2.024611554796163e-11\n",
      "epoch =  2300  current loss =  1.65249081779395e-11\n",
      "epoch =  2400  current loss =  1.623206430378943e-11\n",
      "epoch =  2500  current loss =  1.628557358412941e-11\n",
      "epoch =  2600  current loss =  1.5035460723678007e-11\n",
      "epoch =  2700  current loss =  1.496509513532196e-11\n",
      "epoch =  2800  current loss =  1.4992831628979353e-11\n",
      "epoch =  2900  current loss =  1.4993513375305412e-11\n",
      "epoch =  3000  current loss =  1.499414828409762e-11\n",
      "epoch =  3100  current loss =  1.4994732885909023e-11\n",
      "epoch =  3200  current loss =  1.5022405194797805e-11\n",
      "epoch =  3300  current loss =  1.502256305463412e-11\n",
      "epoch =  3400  current loss =  1.5022703567235673e-11\n",
      "epoch =  3500  current loss =  1.5022824997878992e-11\n",
      "epoch =  3600  current loss =  1.5022934285457978e-11\n",
      "epoch =  3700  current loss =  1.5023029695249157e-11\n",
      "epoch =  3800  current loss =  1.502311469669948e-11\n",
      "epoch =  3900  current loss =  1.502318755508547e-11\n",
      "epoch =  4000  current loss =  1.5023253474577558e-11\n",
      "epoch =  4100  current loss =  1.5023310720452265e-11\n",
      "epoch =  4200  current loss =  1.502336102743307e-11\n",
      "epoch =  4300  current loss =  1.5023404395519968e-11\n",
      "epoch =  4400  current loss =  1.502344255943644e-11\n",
      "epoch =  4500  current loss =  1.502347725390596e-11\n",
      "epoch =  4600  current loss =  1.502350674420505e-11\n",
      "epoch =  4700  current loss =  1.502353276505719e-11\n",
      "epoch =  4800  current loss =  1.5023555316462378e-11\n",
      "epoch =  4900  current loss =  1.5023574398420614e-11\n",
      "epoch =  5000  current loss =  1.5023591745655374e-11\n",
      "epoch =  5100  current loss =  1.5023609092890133e-11\n",
      "epoch =  5200  current loss =  1.5023621235954465e-11\n",
      "epoch =  5300  current loss =  1.502363164429532e-11\n",
      "epoch =  5400  current loss =  1.5023643787359653e-11\n",
      "epoch =  5500  current loss =  1.5023652460977033e-11\n",
      "epoch =  5600  current loss =  1.5023659399870937e-11\n",
      "epoch =  5700  current loss =  1.502366633876484e-11\n",
      "epoch =  5800  current loss =  1.5023673277658744e-11\n",
      "epoch =  5900  current loss =  1.5023678481829172e-11\n",
      "epoch =  6000  current loss =  1.5023681951276124e-11\n",
      "epoch =  6100  current loss =  1.5023687155446552e-11\n",
      "epoch =  6200  current loss =  1.502369235961698e-11\n",
      "epoch =  6300  current loss =  1.5023694094340456e-11\n",
      "epoch =  6400  current loss =  1.5023695829063932e-11\n",
      "epoch =  6500  current loss =  1.5023697563787408e-11\n",
      "epoch =  6600  current loss =  1.5023699298510884e-11\n",
      "epoch =  6700  current loss =  1.502370103323436e-11\n",
      "epoch =  6800  current loss =  1.5023704502681312e-11\n",
      "epoch =  6900  current loss =  1.5023706237404788e-11\n",
      "epoch =  7000  current loss =  1.5023707972128264e-11\n",
      "epoch =  7100  current loss =  1.5023707972128264e-11\n",
      "epoch =  7200  current loss =  1.5023707972128264e-11\n",
      "epoch =  7300  current loss =  1.5023707972128264e-11\n",
      "epoch =  7400  current loss =  1.5023707972128264e-11\n",
      "epoch =  7500  current loss =  1.5023707972128264e-11\n",
      "epoch =  7600  current loss =  1.5023707972128264e-11\n",
      "epoch =  7700  current loss =  1.5023707972128264e-11\n",
      "epoch =  7800  current loss =  1.5023707972128264e-11\n",
      "epoch =  7900  current loss =  1.5023707972128264e-11\n",
      "epoch =  8000  current loss =  1.5023707972128264e-11\n",
      "epoch =  8100  current loss =  1.5023707972128264e-11\n",
      "epoch =  8200  current loss =  1.5023707972128264e-11\n",
      "epoch =  8300  current loss =  1.5023707972128264e-11\n",
      "epoch =  8400  current loss =  1.5023707972128264e-11\n",
      "epoch =  8500  current loss =  1.5023707972128264e-11\n",
      "epoch =  8600  current loss =  1.5023707972128264e-11\n",
      "epoch =  8700  current loss =  1.5023707972128264e-11\n",
      "epoch =  8800  current loss =  1.5023707972128264e-11\n",
      "epoch =  8900  current loss =  1.5023707972128264e-11\n",
      "epoch =  9000  current loss =  1.5023707972128264e-11\n",
      "epoch =  9100  current loss =  1.5023707972128264e-11\n",
      "epoch =  9200  current loss =  1.5023707972128264e-11\n",
      "epoch =  9300  current loss =  1.5023707972128264e-11\n",
      "epoch =  9400  current loss =  1.5023707972128264e-11\n",
      "epoch =  9500  current loss =  1.5023707972128264e-11\n",
      "epoch =  9600  current loss =  1.5023707972128264e-11\n",
      "epoch =  9700  current loss =  1.5023707972128264e-11\n",
      "epoch =  9800  current loss =  1.5023707972128264e-11\n",
      "epoch =  9900  current loss =  1.5023707972128264e-11\n",
      "epoch =  10000  current loss =  1.5023707972128264e-11\n",
      "epoch =  10100  current loss =  1.5023707972128264e-11\n",
      "epoch =  10200  current loss =  1.5023707972128264e-11\n",
      "epoch =  10300  current loss =  1.5023707972128264e-11\n",
      "epoch =  10400  current loss =  1.5023707972128264e-11\n",
      "epoch =  10500  current loss =  1.5023707972128264e-11\n",
      "epoch =  10600  current loss =  1.5023707972128264e-11\n",
      "epoch =  10700  current loss =  1.5023707972128264e-11\n",
      "epoch =  10800  current loss =  1.5023707972128264e-11\n",
      "epoch =  10900  current loss =  1.5023707972128264e-11\n",
      "epoch =  11000  current loss =  1.5023707972128264e-11\n",
      "epoch =  11100  current loss =  1.5023707972128264e-11\n",
      "epoch =  11200  current loss =  1.5023707972128264e-11\n",
      "epoch =  11300  current loss =  1.5023707972128264e-11\n",
      "epoch =  11400  current loss =  1.5023707972128264e-11\n",
      "epoch =  11500  current loss =  1.5023707972128264e-11\n",
      "epoch =  11600  current loss =  1.5023707972128264e-11\n",
      "epoch =  11700  current loss =  1.5023707972128264e-11\n",
      "epoch =  11800  current loss =  1.5023707972128264e-11\n",
      "epoch =  11900  current loss =  1.5023707972128264e-11\n",
      "epoch =  12000  current loss =  1.5023707972128264e-11\n",
      "epoch =  12100  current loss =  1.5023707972128264e-11\n",
      "epoch =  12200  current loss =  1.5023707972128264e-11\n",
      "epoch =  12300  current loss =  1.5023707972128264e-11\n",
      "epoch =  12400  current loss =  1.5023707972128264e-11\n",
      "epoch =  12500  current loss =  1.5023707972128264e-11\n",
      "epoch =  12600  current loss =  1.5023707972128264e-11\n",
      "epoch =  12700  current loss =  1.5023707972128264e-11\n",
      "epoch =  12800  current loss =  1.5023707972128264e-11\n",
      "epoch =  12900  current loss =  1.5023707972128264e-11\n",
      "epoch =  13000  current loss =  1.5023707972128264e-11\n",
      "epoch =  13100  current loss =  1.5023707972128264e-11\n",
      "epoch =  13200  current loss =  1.5023707972128264e-11\n",
      "epoch =  13300  current loss =  1.5023707972128264e-11\n",
      "epoch =  13400  current loss =  1.5023707972128264e-11\n",
      "epoch =  13500  current loss =  1.5023707972128264e-11\n",
      "epoch =  13600  current loss =  1.5023707972128264e-11\n",
      "epoch =  13700  current loss =  1.5023707972128264e-11\n",
      "epoch =  13800  current loss =  1.5023707972128264e-11\n",
      "epoch =  13900  current loss =  1.5023707972128264e-11\n",
      "epoch =  14000  current loss =  1.5023707972128264e-11\n",
      "epoch =  14100  current loss =  1.5023707972128264e-11\n",
      "epoch =  14200  current loss =  1.5023707972128264e-11\n",
      "epoch =  14300  current loss =  1.5023707972128264e-11\n",
      "epoch =  14400  current loss =  1.5023707972128264e-11\n",
      "epoch =  14500  current loss =  1.5023707972128264e-11\n",
      "epoch =  14600  current loss =  1.5023707972128264e-11\n",
      "epoch =  14700  current loss =  1.5023707972128264e-11\n",
      "epoch =  14800  current loss =  1.5023707972128264e-11\n",
      "epoch =  14900  current loss =  1.5023707972128264e-11\n",
      "epoch =  15000  current loss =  1.5023707972128264e-11\n",
      "epoch =  15100  current loss =  1.5023707972128264e-11\n",
      "epoch =  15200  current loss =  1.5023707972128264e-11\n",
      "epoch =  15300  current loss =  1.5023707972128264e-11\n",
      "epoch =  15400  current loss =  1.5023707972128264e-11\n",
      "epoch =  15500  current loss =  1.5023707972128264e-11\n",
      "epoch =  15600  current loss =  1.5023707972128264e-11\n",
      "epoch =  15700  current loss =  1.5023707972128264e-11\n",
      "epoch =  15800  current loss =  1.5023707972128264e-11\n",
      "epoch =  15900  current loss =  1.5023707972128264e-11\n",
      "epoch =  16000  current loss =  1.5023707972128264e-11\n",
      "epoch =  16100  current loss =  1.5023707972128264e-11\n",
      "epoch =  16200  current loss =  1.5023707972128264e-11\n",
      "epoch =  16300  current loss =  1.5023707972128264e-11\n",
      "epoch =  16400  current loss =  1.5023707972128264e-11\n",
      "epoch =  16500  current loss =  1.5023707972128264e-11\n",
      "epoch =  16600  current loss =  1.5023707972128264e-11\n",
      "epoch =  16700  current loss =  1.5023707972128264e-11\n",
      "epoch =  16800  current loss =  1.5023707972128264e-11\n",
      "epoch =  16900  current loss =  1.5023707972128264e-11\n",
      "epoch =  17000  current loss =  1.5023707972128264e-11\n",
      "epoch =  17100  current loss =  1.5023707972128264e-11\n",
      "epoch =  17200  current loss =  1.5023707972128264e-11\n",
      "epoch =  17300  current loss =  1.5023707972128264e-11\n",
      "epoch =  17400  current loss =  1.5023707972128264e-11\n",
      "epoch =  17500  current loss =  1.5023707972128264e-11\n",
      "epoch =  17600  current loss =  1.5023707972128264e-11\n",
      "epoch =  17700  current loss =  1.5023707972128264e-11\n",
      "epoch =  17800  current loss =  1.5023707972128264e-11\n",
      "epoch =  17900  current loss =  1.5023707972128264e-11\n",
      "epoch =  18000  current loss =  1.5023707972128264e-11\n",
      "epoch =  18100  current loss =  1.5023707972128264e-11\n",
      "epoch =  18200  current loss =  1.5023707972128264e-11\n",
      "epoch =  18300  current loss =  1.5023707972128264e-11\n",
      "epoch =  18400  current loss =  1.5023707972128264e-11\n",
      "epoch =  18500  current loss =  1.5023707972128264e-11\n",
      "epoch =  18600  current loss =  1.5023707972128264e-11\n",
      "epoch =  18700  current loss =  1.5023707972128264e-11\n",
      "epoch =  18800  current loss =  1.5023707972128264e-11\n",
      "epoch =  18900  current loss =  1.5023707972128264e-11\n",
      "epoch =  19000  current loss =  1.5023707972128264e-11\n",
      "epoch =  19100  current loss =  1.5023707972128264e-11\n",
      "epoch =  19200  current loss =  1.5023707972128264e-11\n",
      "epoch =  19300  current loss =  1.5023707972128264e-11\n",
      "epoch =  19400  current loss =  1.5023707972128264e-11\n",
      "epoch =  19500  current loss =  1.5023707972128264e-11\n",
      "epoch =  19600  current loss =  1.5023707972128264e-11\n",
      "epoch =  19700  current loss =  1.5023707972128264e-11\n",
      "epoch =  19800  current loss =  1.5023707972128264e-11\n",
      "epoch =  19900  current loss =  1.5023707972128264e-11\n",
      "epoch =  20000  current loss =  1.5023707972128264e-11\n"
     ]
    }
   ],
   "source": [
    "## 4. 학습 (Learning)\n",
    "loss_list = []\n",
    "nums_epoch = 20000\n",
    "\n",
    "for epoch in range(nums_epoch+1):\n",
    "\n",
    "    prediction = model(x_train) #mode에 데이터를 전달하면 modelclassdml forward함수가 자동 ㄹ행\n",
    "    loss = loss_function(prediction, y_train) #선형회귀 모델의 예측값과, 정답과의 오차 계산\n",
    "\n",
    "    loss_list.append(loss.item())\n",
    "\n",
    "    # 역전파 코드 3종세트\n",
    "    optimizer.zero_grad()\n",
    "    loss.backward()\n",
    "    optimizer.step()\n",
    "\n",
    "    #중간 출력값 \n",
    "    if epoch % 100 == 0:\n",
    "        print('epoch = ', epoch, ' current loss = ', loss.item())"
   ]
  },
  {
   "cell_type": "markdown",
   "id": "adc62b53-4379-4380-96dd-28feb72b253d",
   "metadata": {},
   "source": [
    "## 3. 평가"
   ]
  },
  {
   "cell_type": "markdown",
   "id": "9da97fe1-d562-4e72-8168-fbd6c2ea5709",
   "metadata": {},
   "source": [
    "### 3.1 loss trend 그래프"
   ]
  },
  {
   "cell_type": "code",
   "execution_count": 33,
   "id": "602943c6-873b-411a-9997-1a0342e81fe4",
   "metadata": {},
   "outputs": [
    {
     "data": {
      "image/png": "[encoded data removed]",
      "text/plain": [
       "<Figure size 640x480 with 1 Axes>"
      ]
     },
     "metadata": {},
     "output_type": "display_data"
    }
   ],
   "source": [
    "## 손실함수 최적화 그래프\n",
    "\n",
    "import matplotlib.pyplot as plt\n",
    "\n",
    "plt.title('Loss Trend')\n",
    "plt.xlabel('epochs')\n",
    "plt.ylabel('loss')\n",
    "plt.grid()\n",
    "\n",
    "plt.plot(loss_list,label='train loss')\n",
    "plt.legend(loc='best')\n",
    "plt.show()"
   ]
  },
  {
   "cell_type": "markdown",
   "id": "1f5a396d-4910-46e4-8f12-d69dc3ead517",
   "metadata": {},
   "source": [
    "### 3.2 모델 파라미터 확인"
   ]
  },
  {
   "cell_type": "code",
   "execution_count": 17,
   "id": "e8222098-5632-4637-9b93-9e28b1639dbe",
   "metadata": {},
   "outputs": [
    {
     "name": "stdout",
     "output_type": "stream",
     "text": [
      "linear_stack Parameter containing:\n",
      "tensor([[ 2.0000, -3.0000,  2.0000]], requires_grad=True)\n",
      "linear_stack Parameter containing:\n",
      "tensor([5.1262e-06], requires_grad=True)\n"
     ]
    }
   ],
   "source": [
    "## 모델 파라미터 (가중치,바이어스) 확인\n",
    "## 학습을 마친 후에 정확하게 가중치를 추정하였음 (2,-3,2)\n",
    "\n",
    "for name, child in model.named_children():\n",
    "    for param in child.parameters():\n",
    "        print(name, param)"
   ]
  },
  {
   "cell_type": "markdown",
   "id": "3e482480-ebf6-4e2f-8824-6cad2b9c7b8c",
   "metadata": {},
   "source": [
    "### 3.3 테스트 데이터로 평가"
   ]
  },
  {
   "cell_type": "code",
   "execution_count": 18,
   "id": "96ff981a-b2d4-4df5-b687-22096ea50219",
   "metadata": {},
   "outputs": [
    {
     "name": "stdout",
     "output_type": "stream",
     "text": [
      "tensor([[-5.0000],\n",
      "        [-3.0000],\n",
      "        [-4.0000],\n",
      "        [ 9.0000],\n",
      "        [ 7.0000]], grad_fn=<AddmmBackward0>)\n",
      "=============================================\n",
      "[tensor(-5.), tensor(-3.), tensor(-4.), tensor(9.), tensor(7.)]\n"
     ]
    }
   ],
   "source": [
    "## 테스트 데이터 예측하기\n",
    "\n",
    "x_test = torch.Tensor([ [5, 5, 0], [2, 3, 1], [-1, 0, -1], [10, 5, 2], [4, -1, -2] ])\n",
    "label = [ 2*data[0] -3*data[1] + 2*data[2]  for data in x_test ]\n",
    "pred = model(x_test) # 학습 완료된 모델에 테스트 데이터 대입\n",
    "\n",
    "print(pred)\n",
    "print('=============================================')\n",
    "print(label)"
   ]
  }
 ],
 "metadata": {
  "kernelspec": {
   "display_name": "Python 3 (ipykernel)",
   "language": "python",
   "name": "python3"
  },
  "language_info": {
   "codemirror_mode": {
    "name": "ipython",
    "version": 3
   },
   "file_extension": ".py",
   "mimetype": "text/x-python",
   "name": "python",
   "nbconvert_exporter": "python",
   "pygments_lexer": "ipython3",
   "version": "3.12.4"
  }
 },
 "nbformat": 4,
 "nbformat_minor": 5
}
