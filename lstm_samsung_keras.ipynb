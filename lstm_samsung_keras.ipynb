{
 "cells": [
  {
   "cell_type": "markdown",
   "id": "5324c622-ac39-46d5-bc2e-b36087a1bbc6",
   "metadata": {},
   "source": [
    "### samsung 주가 데이터 읽기 (yfinance API활용)"
   ]
  },
  {
   "cell_type": "code",
   "execution_count": 1,
   "id": "cfbfe7ce-0f36-4fd3-b5d2-3774d2a445cf",
   "metadata": {},
   "outputs": [],
   "source": [
    "import pandas as pd\n",
    "import yfinance as yf"
   ]
  },
  {
   "cell_type": "code",
   "execution_count": 3,
   "id": "70341392-ed71-4a25-b782-bc6a4df78550",
   "metadata": {},
   "outputs": [
    {
     "name": "stderr",
     "output_type": "stream",
     "text": [
      "[*********************100%***********************]  1 of 1 completed\n"
     ]
    }
   ],
   "source": [
    "start='2000-01-04'\n",
    "end='2024-08-31'\n",
    "symbol='005930.KS' #yahoo finacnce에서 samsung전자의 유효코드값. \n",
    "#https://finance.yahoo.com/quote/005930.KS/history/?period1=946944000&period2=1726670118 에서 확인할 수 있음\n",
    "df=yf.download(symbol,start,end)"
   ]
  },
  {
   "cell_type": "code",
   "execution_count": 5,
   "id": "dcecc4e1-d89c-4c72-9635-36b1ef88947e",
   "metadata": {},
   "outputs": [
    {
     "data": {
      "text/html": [
       "<div>\n",
       "<style scoped>\n",
       "    .dataframe tbody tr th:only-of-type {\n",
       "        vertical-align: middle;\n",
       "    }\n",
       "\n",
       "    .dataframe tbody tr th {\n",
       "        vertical-align: top;\n",
       "    }\n",
       "\n",
       "    .dataframe thead th {\n",
       "        text-align: right;\n",
       "    }\n",
       "</style>\n",
       "<table border=\"1\" class=\"dataframe\">\n",
       "  <thead>\n",
       "    <tr style=\"text-align: right;\">\n",
       "      <th></th>\n",
       "      <th>Open</th>\n",
       "      <th>High</th>\n",
       "      <th>Low</th>\n",
       "      <th>Close</th>\n",
       "      <th>Adj Close</th>\n",
       "      <th>Volume</th>\n",
       "    </tr>\n",
       "    <tr>\n",
       "      <th>Date</th>\n",
       "      <th></th>\n",
       "      <th></th>\n",
       "      <th></th>\n",
       "      <th></th>\n",
       "      <th></th>\n",
       "      <th></th>\n",
       "    </tr>\n",
       "  </thead>\n",
       "  <tbody>\n",
       "    <tr>\n",
       "      <th>2000-01-04</th>\n",
       "      <td>6000.0</td>\n",
       "      <td>6110.0</td>\n",
       "      <td>5660.0</td>\n",
       "      <td>6110.0</td>\n",
       "      <td>4429.951660</td>\n",
       "      <td>74195000</td>\n",
       "    </tr>\n",
       "    <tr>\n",
       "      <th>2000-01-05</th>\n",
       "      <td>5800.0</td>\n",
       "      <td>6060.0</td>\n",
       "      <td>5520.0</td>\n",
       "      <td>5580.0</td>\n",
       "      <td>4045.685059</td>\n",
       "      <td>74680000</td>\n",
       "    </tr>\n",
       "    <tr>\n",
       "      <th>2000-01-06</th>\n",
       "      <td>5750.0</td>\n",
       "      <td>5780.0</td>\n",
       "      <td>5580.0</td>\n",
       "      <td>5620.0</td>\n",
       "      <td>4074.684814</td>\n",
       "      <td>54390000</td>\n",
       "    </tr>\n",
       "    <tr>\n",
       "      <th>2000-01-07</th>\n",
       "      <td>5560.0</td>\n",
       "      <td>5670.0</td>\n",
       "      <td>5360.0</td>\n",
       "      <td>5540.0</td>\n",
       "      <td>4016.683105</td>\n",
       "      <td>40305000</td>\n",
       "    </tr>\n",
       "    <tr>\n",
       "      <th>2000-01-10</th>\n",
       "      <td>5600.0</td>\n",
       "      <td>5770.0</td>\n",
       "      <td>5580.0</td>\n",
       "      <td>5770.0</td>\n",
       "      <td>4183.441406</td>\n",
       "      <td>46880000</td>\n",
       "    </tr>\n",
       "  </tbody>\n",
       "</table>\n",
       "</div>"
      ],
      "text/plain": [
       "              Open    High     Low   Close    Adj Close    Volume\n",
       "Date                                                             \n",
       "2000-01-04  6000.0  6110.0  5660.0  6110.0  4429.951660  74195000\n",
       "2000-01-05  5800.0  6060.0  5520.0  5580.0  4045.685059  74680000\n",
       "2000-01-06  5750.0  5780.0  5580.0  5620.0  4074.684814  54390000\n",
       "2000-01-07  5560.0  5670.0  5360.0  5540.0  4016.683105  40305000\n",
       "2000-01-10  5600.0  5770.0  5580.0  5770.0  4183.441406  46880000"
      ]
     },
     "execution_count": 5,
     "metadata": {},
     "output_type": "execute_result"
    }
   ],
   "source": [
    "df.head()"
   ]
  },
  {
   "cell_type": "code",
   "execution_count": 7,
   "id": "d98b5b6c-3cca-48a1-9fc9-8cb4f8ca9c4e",
   "metadata": {},
   "outputs": [
    {
     "data": {
      "text/html": [
       "<div>\n",
       "<style scoped>\n",
       "    .dataframe tbody tr th:only-of-type {\n",
       "        vertical-align: middle;\n",
       "    }\n",
       "\n",
       "    .dataframe tbody tr th {\n",
       "        vertical-align: top;\n",
       "    }\n",
       "\n",
       "    .dataframe thead th {\n",
       "        text-align: right;\n",
       "    }\n",
       "</style>\n",
       "<table border=\"1\" class=\"dataframe\">\n",
       "  <thead>\n",
       "    <tr style=\"text-align: right;\">\n",
       "      <th></th>\n",
       "      <th>Open</th>\n",
       "      <th>High</th>\n",
       "      <th>Low</th>\n",
       "      <th>Close</th>\n",
       "      <th>Adj Close</th>\n",
       "      <th>Volume</th>\n",
       "    </tr>\n",
       "    <tr>\n",
       "      <th>Date</th>\n",
       "      <th></th>\n",
       "      <th></th>\n",
       "      <th></th>\n",
       "      <th></th>\n",
       "      <th></th>\n",
       "      <th></th>\n",
       "    </tr>\n",
       "  </thead>\n",
       "  <tbody>\n",
       "    <tr>\n",
       "      <th>2024-08-26</th>\n",
       "      <td>78100.0</td>\n",
       "      <td>78200.0</td>\n",
       "      <td>76000.0</td>\n",
       "      <td>76100.0</td>\n",
       "      <td>76100.0</td>\n",
       "      <td>15655938</td>\n",
       "    </tr>\n",
       "    <tr>\n",
       "      <th>2024-08-27</th>\n",
       "      <td>75700.0</td>\n",
       "      <td>76500.0</td>\n",
       "      <td>75600.0</td>\n",
       "      <td>75800.0</td>\n",
       "      <td>75800.0</td>\n",
       "      <td>11130145</td>\n",
       "    </tr>\n",
       "    <tr>\n",
       "      <th>2024-08-28</th>\n",
       "      <td>75800.0</td>\n",
       "      <td>76400.0</td>\n",
       "      <td>75400.0</td>\n",
       "      <td>76400.0</td>\n",
       "      <td>76400.0</td>\n",
       "      <td>9794514</td>\n",
       "    </tr>\n",
       "    <tr>\n",
       "      <th>2024-08-29</th>\n",
       "      <td>73600.0</td>\n",
       "      <td>74700.0</td>\n",
       "      <td>73500.0</td>\n",
       "      <td>74000.0</td>\n",
       "      <td>74000.0</td>\n",
       "      <td>16884479</td>\n",
       "    </tr>\n",
       "    <tr>\n",
       "      <th>2024-08-30</th>\n",
       "      <td>74400.0</td>\n",
       "      <td>75000.0</td>\n",
       "      <td>74100.0</td>\n",
       "      <td>74300.0</td>\n",
       "      <td>74300.0</td>\n",
       "      <td>16358520</td>\n",
       "    </tr>\n",
       "  </tbody>\n",
       "</table>\n",
       "</div>"
      ],
      "text/plain": [
       "               Open     High      Low    Close  Adj Close    Volume\n",
       "Date                                                               \n",
       "2024-08-26  78100.0  78200.0  76000.0  76100.0    76100.0  15655938\n",
       "2024-08-27  75700.0  76500.0  75600.0  75800.0    75800.0  11130145\n",
       "2024-08-28  75800.0  76400.0  75400.0  76400.0    76400.0   9794514\n",
       "2024-08-29  73600.0  74700.0  73500.0  74000.0    74000.0  16884479\n",
       "2024-08-30  74400.0  75000.0  74100.0  74300.0    74300.0  16358520"
      ]
     },
     "execution_count": 7,
     "metadata": {},
     "output_type": "execute_result"
    }
   ],
   "source": [
    "df.tail()"
   ]
  },
  {
   "cell_type": "code",
   "execution_count": 15,
   "id": "bc031734-ca10-4c7a-b863-63c0c114b15d",
   "metadata": {},
   "outputs": [],
   "source": [
    "import tensorflow as tf\n",
    "import numpy as np\n",
    "import pandas as pd\n",
    "import matplotlib.pyplot as plt\n",
    "from tensorflow.keras.models import Sequential\n",
    "from tensorflow.keras.layers import LSTM, Dense, Dropout"
   ]
  },
  {
   "cell_type": "code",
   "execution_count": 16,
   "id": "d3c5fbd7-7cb8-4d40-a412-8cdca6716be9",
   "metadata": {},
   "outputs": [
    {
     "data": {
      "image/png": "[encoded data removed]",
      "text/plain": [
       "<Figure size 640x480 with 1 Axes>"
      ]
     },
     "metadata": {},
     "output_type": "display_data"
    }
   ],
   "source": [
    "plt.title('samsung eletornic stock price')\n",
    "plt.ylabel('price')\n",
    "plt.xlabel('period')\n",
    "\n",
    "plt.plot(df['Adj Close'], label='Adj Close')\n",
    "plt.show()"
   ]
  },
  {
   "cell_type": "markdown",
   "id": "cdc62c7e-3e54-4471-83fb-3f6921cb8422",
   "metadata": {},
   "source": [
    "### 데이터 전처리"
   ]
  },
  {
   "cell_type": "code",
   "execution_count": 21,
   "id": "0edb3b84-ac77-49c0-aa95-601ed91f1edf",
   "metadata": {},
   "outputs": [
    {
     "data": {
      "text/html": [
       "<div>\n",
       "<style scoped>\n",
       "    .dataframe tbody tr th:only-of-type {\n",
       "        vertical-align: middle;\n",
       "    }\n",
       "\n",
       "    .dataframe tbody tr th {\n",
       "        vertical-align: top;\n",
       "    }\n",
       "\n",
       "    .dataframe thead th {\n",
       "        text-align: right;\n",
       "    }\n",
       "</style>\n",
       "<table border=\"1\" class=\"dataframe\">\n",
       "  <thead>\n",
       "    <tr style=\"text-align: right;\">\n",
       "      <th></th>\n",
       "      <th>Open</th>\n",
       "      <th>High</th>\n",
       "      <th>Low</th>\n",
       "      <th>Close</th>\n",
       "      <th>Adj Close</th>\n",
       "      <th>Volume</th>\n",
       "    </tr>\n",
       "  </thead>\n",
       "  <tbody>\n",
       "    <tr>\n",
       "      <th>count</th>\n",
       "      <td>6182.000000</td>\n",
       "      <td>6182.000000</td>\n",
       "      <td>6182.000000</td>\n",
       "      <td>6182.000000</td>\n",
       "      <td>6182.000000</td>\n",
       "      <td>6.182000e+03</td>\n",
       "    </tr>\n",
       "    <tr>\n",
       "      <th>mean</th>\n",
       "      <td>28836.096732</td>\n",
       "      <td>29114.422517</td>\n",
       "      <td>28544.809123</td>\n",
       "      <td>28824.839858</td>\n",
       "      <td>24894.847346</td>\n",
       "      <td>2.116084e+07</td>\n",
       "    </tr>\n",
       "    <tr>\n",
       "      <th>std</th>\n",
       "      <td>23023.558211</td>\n",
       "      <td>23203.766100</td>\n",
       "      <td>22821.949746</td>\n",
       "      <td>22999.799991</td>\n",
       "      <td>22476.681029</td>\n",
       "      <td>1.502046e+07</td>\n",
       "    </tr>\n",
       "    <tr>\n",
       "      <th>min</th>\n",
       "      <td>2540.000000</td>\n",
       "      <td>2760.000000</td>\n",
       "      <td>2420.000000</td>\n",
       "      <td>2730.000000</td>\n",
       "      <td>1979.339966</td>\n",
       "      <td>0.000000e+00</td>\n",
       "    </tr>\n",
       "    <tr>\n",
       "      <th>25%</th>\n",
       "      <td>10800.000000</td>\n",
       "      <td>10945.000000</td>\n",
       "      <td>10640.000000</td>\n",
       "      <td>10785.000000</td>\n",
       "      <td>7902.859863</td>\n",
       "      <td>1.170369e+07</td>\n",
       "    </tr>\n",
       "    <tr>\n",
       "      <th>50%</th>\n",
       "      <td>21720.000000</td>\n",
       "      <td>21980.000000</td>\n",
       "      <td>21460.000000</td>\n",
       "      <td>21670.000000</td>\n",
       "      <td>16988.235352</td>\n",
       "      <td>1.715452e+07</td>\n",
       "    </tr>\n",
       "    <tr>\n",
       "      <th>75%</th>\n",
       "      <td>46142.500000</td>\n",
       "      <td>46500.000000</td>\n",
       "      <td>45642.500000</td>\n",
       "      <td>46080.000000</td>\n",
       "      <td>39283.429688</td>\n",
       "      <td>2.610688e+07</td>\n",
       "    </tr>\n",
       "    <tr>\n",
       "      <th>max</th>\n",
       "      <td>90300.000000</td>\n",
       "      <td>96800.000000</td>\n",
       "      <td>89500.000000</td>\n",
       "      <td>91000.000000</td>\n",
       "      <td>87800.000000</td>\n",
       "      <td>1.642150e+08</td>\n",
       "    </tr>\n",
       "  </tbody>\n",
       "</table>\n",
       "</div>"
      ],
      "text/plain": [
       "               Open          High           Low         Close     Adj Close  \\\n",
       "count   6182.000000   6182.000000   6182.000000   6182.000000   6182.000000   \n",
       "mean   28836.096732  29114.422517  28544.809123  28824.839858  24894.847346   \n",
       "std    23023.558211  23203.766100  22821.949746  22999.799991  22476.681029   \n",
       "min     2540.000000   2760.000000   2420.000000   2730.000000   1979.339966   \n",
       "25%    10800.000000  10945.000000  10640.000000  10785.000000   7902.859863   \n",
       "50%    21720.000000  21980.000000  21460.000000  21670.000000  16988.235352   \n",
       "75%    46142.500000  46500.000000  45642.500000  46080.000000  39283.429688   \n",
       "max    90300.000000  96800.000000  89500.000000  91000.000000  87800.000000   \n",
       "\n",
       "             Volume  \n",
       "count  6.182000e+03  \n",
       "mean   2.116084e+07  \n",
       "std    1.502046e+07  \n",
       "min    0.000000e+00  \n",
       "25%    1.170369e+07  \n",
       "50%    1.715452e+07  \n",
       "75%    2.610688e+07  \n",
       "max    1.642150e+08  "
      ]
     },
     "execution_count": 21,
     "metadata": {},
     "output_type": "execute_result"
    }
   ],
   "source": [
    "#통계정보확인\n",
    "df.describe()"
   ]
  },
  {
   "cell_type": "code",
   "execution_count": 25,
   "id": "77e79923-6d5b-47a6-a52c-16833a685744",
   "metadata": {},
   "outputs": [
    {
     "data": {
      "text/plain": [
       "Open         0\n",
       "High         0\n",
       "Low          0\n",
       "Close        0\n",
       "Adj Close    0\n",
       "Volume       0\n",
       "dtype: int64"
      ]
     },
     "execution_count": 25,
     "metadata": {},
     "output_type": "execute_result"
    }
   ],
   "source": [
    "#missing data확인\n",
    "df.isnull().sum()"
   ]
  },
  {
   "cell_type": "markdown",
   "id": "e63aa9de-1760-4e29-8d97-9395a08dea33",
   "metadata": {},
   "source": [
    "### 3MA, 5MA 예측의 정확도를 높이기 위해 가격이동평균선 추가"
   ]
  },
  {
   "cell_type": "code",
   "execution_count": 28,
   "id": "bb2231ee-821e-4c54-bd3e-a1a57d9e6b8b",
   "metadata": {},
   "outputs": [],
   "source": [
    "df['3MA'] = df['Adj Close'].rolling(window=3).mean()\n",
    "df['5MA'] = df['Adj Close'].rolling(window=5).mean()"
   ]
  },
  {
   "cell_type": "code",
   "execution_count": 30,
   "id": "6e7ec8fc-3e27-421a-89fa-d912d5ab8463",
   "metadata": {},
   "outputs": [
    {
     "data": {
      "text/html": [
       "<div>\n",
       "<style scoped>\n",
       "    .dataframe tbody tr th:only-of-type {\n",
       "        vertical-align: middle;\n",
       "    }\n",
       "\n",
       "    .dataframe tbody tr th {\n",
       "        vertical-align: top;\n",
       "    }\n",
       "\n",
       "    .dataframe thead th {\n",
       "        text-align: right;\n",
       "    }\n",
       "</style>\n",
       "<table border=\"1\" class=\"dataframe\">\n",
       "  <thead>\n",
       "    <tr style=\"text-align: right;\">\n",
       "      <th></th>\n",
       "      <th>Open</th>\n",
       "      <th>High</th>\n",
       "      <th>Low</th>\n",
       "      <th>Close</th>\n",
       "      <th>Adj Close</th>\n",
       "      <th>Volume</th>\n",
       "      <th>3MA</th>\n",
       "      <th>5MA</th>\n",
       "    </tr>\n",
       "    <tr>\n",
       "      <th>Date</th>\n",
       "      <th></th>\n",
       "      <th></th>\n",
       "      <th></th>\n",
       "      <th></th>\n",
       "      <th></th>\n",
       "      <th></th>\n",
       "      <th></th>\n",
       "      <th></th>\n",
       "    </tr>\n",
       "  </thead>\n",
       "  <tbody>\n",
       "    <tr>\n",
       "      <th>2000-01-04</th>\n",
       "      <td>6000.0</td>\n",
       "      <td>6110.0</td>\n",
       "      <td>5660.0</td>\n",
       "      <td>6110.0</td>\n",
       "      <td>4429.951660</td>\n",
       "      <td>74195000</td>\n",
       "      <td>NaN</td>\n",
       "      <td>NaN</td>\n",
       "    </tr>\n",
       "    <tr>\n",
       "      <th>2000-01-05</th>\n",
       "      <td>5800.0</td>\n",
       "      <td>6060.0</td>\n",
       "      <td>5520.0</td>\n",
       "      <td>5580.0</td>\n",
       "      <td>4045.685059</td>\n",
       "      <td>74680000</td>\n",
       "      <td>NaN</td>\n",
       "      <td>NaN</td>\n",
       "    </tr>\n",
       "    <tr>\n",
       "      <th>2000-01-06</th>\n",
       "      <td>5750.0</td>\n",
       "      <td>5780.0</td>\n",
       "      <td>5580.0</td>\n",
       "      <td>5620.0</td>\n",
       "      <td>4074.684814</td>\n",
       "      <td>54390000</td>\n",
       "      <td>4183.440511</td>\n",
       "      <td>NaN</td>\n",
       "    </tr>\n",
       "    <tr>\n",
       "      <th>2000-01-07</th>\n",
       "      <td>5560.0</td>\n",
       "      <td>5670.0</td>\n",
       "      <td>5360.0</td>\n",
       "      <td>5540.0</td>\n",
       "      <td>4016.683105</td>\n",
       "      <td>40305000</td>\n",
       "      <td>4045.684326</td>\n",
       "      <td>NaN</td>\n",
       "    </tr>\n",
       "    <tr>\n",
       "      <th>2000-01-10</th>\n",
       "      <td>5600.0</td>\n",
       "      <td>5770.0</td>\n",
       "      <td>5580.0</td>\n",
       "      <td>5770.0</td>\n",
       "      <td>4183.441406</td>\n",
       "      <td>46880000</td>\n",
       "      <td>4091.603109</td>\n",
       "      <td>4150.089209</td>\n",
       "    </tr>\n",
       "  </tbody>\n",
       "</table>\n",
       "</div>"
      ],
      "text/plain": [
       "              Open    High     Low   Close    Adj Close    Volume  \\\n",
       "Date                                                                \n",
       "2000-01-04  6000.0  6110.0  5660.0  6110.0  4429.951660  74195000   \n",
       "2000-01-05  5800.0  6060.0  5520.0  5580.0  4045.685059  74680000   \n",
       "2000-01-06  5750.0  5780.0  5580.0  5620.0  4074.684814  54390000   \n",
       "2000-01-07  5560.0  5670.0  5360.0  5540.0  4016.683105  40305000   \n",
       "2000-01-10  5600.0  5770.0  5580.0  5770.0  4183.441406  46880000   \n",
       "\n",
       "                    3MA          5MA  \n",
       "Date                                  \n",
       "2000-01-04          NaN          NaN  \n",
       "2000-01-05          NaN          NaN  \n",
       "2000-01-06  4183.440511          NaN  \n",
       "2000-01-07  4045.684326          NaN  \n",
       "2000-01-10  4091.603109  4150.089209  "
      ]
     },
     "execution_count": 30,
     "metadata": {},
     "output_type": "execute_result"
    }
   ],
   "source": [
    "df.head()"
   ]
  },
  {
   "cell_type": "code",
   "execution_count": 32,
   "id": "c4a14ba0-c995-48b4-99a0-c99527fac1bc",
   "metadata": {},
   "outputs": [
    {
     "data": {
      "text/plain": [
       "Open         0\n",
       "High         0\n",
       "Low          0\n",
       "Close        0\n",
       "Adj Close    0\n",
       "Volume       0\n",
       "3MA          2\n",
       "5MA          4\n",
       "dtype: int64"
      ]
     },
     "execution_count": 32,
     "metadata": {},
     "output_type": "execute_result"
    }
   ],
   "source": [
    "df.isnull().sum()"
   ]
  },
  {
   "cell_type": "code",
   "execution_count": 34,
   "id": "2842a44e-eac4-4fba-9420-fea2d95a38b2",
   "metadata": {},
   "outputs": [
    {
     "name": "stdout",
     "output_type": "stream",
     "text": [
      "<class 'pandas.core.frame.DataFrame'>\n",
      "DatetimeIndex: 6182 entries, 2000-01-04 to 2024-08-30\n",
      "Data columns (total 8 columns):\n",
      " #   Column     Non-Null Count  Dtype  \n",
      "---  ------     --------------  -----  \n",
      " 0   Open       6182 non-null   float64\n",
      " 1   High       6182 non-null   float64\n",
      " 2   Low        6182 non-null   float64\n",
      " 3   Close      6182 non-null   float64\n",
      " 4   Adj Close  6182 non-null   float64\n",
      " 5   Volume     6182 non-null   int64  \n",
      " 6   3MA        6180 non-null   float64\n",
      " 7   5MA        6178 non-null   float64\n",
      "dtypes: float64(7), int64(1)\n",
      "memory usage: 434.7 KB\n"
     ]
    }
   ],
   "source": [
    "df.info()"
   ]
  },
  {
   "cell_type": "code",
   "execution_count": 40,
   "id": "ec0ea3cf-6888-448c-984f-5063979f0619",
   "metadata": {},
   "outputs": [
    {
     "name": "stdout",
     "output_type": "stream",
     "text": [
      "Volume <class 'str'>\n"
     ]
    }
   ],
   "source": [
    "# 최소값이 0 인 column 체크\n",
    "for col in df.columns:\n",
    "    if df[col].min() == 0:\n",
    "        col_name = col\n",
    "        print(col_name, type(col_name))"
   ]
  },
  {
   "cell_type": "code",
   "execution_count": 46,
   "id": "e32ad9b5-4ef7-4c52-8cd4-9ee1bad8cfa4",
   "metadata": {},
   "outputs": [
    {
     "data": {
      "text/html": [
       "<div>\n",
       "<style scoped>\n",
       "    .dataframe tbody tr th:only-of-type {\n",
       "        vertical-align: middle;\n",
       "    }\n",
       "\n",
       "    .dataframe tbody tr th {\n",
       "        vertical-align: top;\n",
       "    }\n",
       "\n",
       "    .dataframe thead th {\n",
       "        text-align: right;\n",
       "    }\n",
       "</style>\n",
       "<table border=\"1\" class=\"dataframe\">\n",
       "  <thead>\n",
       "    <tr style=\"text-align: right;\">\n",
       "      <th></th>\n",
       "      <th>Open</th>\n",
       "      <th>High</th>\n",
       "      <th>Low</th>\n",
       "      <th>Close</th>\n",
       "      <th>Adj Close</th>\n",
       "      <th>Volume</th>\n",
       "      <th>3MA</th>\n",
       "      <th>5MA</th>\n",
       "    </tr>\n",
       "    <tr>\n",
       "      <th>Date</th>\n",
       "      <th></th>\n",
       "      <th></th>\n",
       "      <th></th>\n",
       "      <th></th>\n",
       "      <th></th>\n",
       "      <th></th>\n",
       "      <th></th>\n",
       "      <th></th>\n",
       "    </tr>\n",
       "  </thead>\n",
       "  <tbody>\n",
       "    <tr>\n",
       "      <th>2000-02-04</th>\n",
       "      <td>5130.0</td>\n",
       "      <td>5130.0</td>\n",
       "      <td>5130.0</td>\n",
       "      <td>5130.0</td>\n",
       "      <td>3719.420166</td>\n",
       "      <td>0</td>\n",
       "      <td>3748.420817</td>\n",
       "      <td>3829.624707</td>\n",
       "    </tr>\n",
       "    <tr>\n",
       "      <th>2000-03-01</th>\n",
       "      <td>5120.0</td>\n",
       "      <td>5120.0</td>\n",
       "      <td>5120.0</td>\n",
       "      <td>5120.0</td>\n",
       "      <td>3712.168945</td>\n",
       "      <td>0</td>\n",
       "      <td>3634.832275</td>\n",
       "      <td>3658.516455</td>\n",
       "    </tr>\n",
       "    <tr>\n",
       "      <th>2000-04-05</th>\n",
       "      <td>6800.0</td>\n",
       "      <td>6800.0</td>\n",
       "      <td>6800.0</td>\n",
       "      <td>6800.0</td>\n",
       "      <td>4930.224609</td>\n",
       "      <td>0</td>\n",
       "      <td>5002.728027</td>\n",
       "      <td>4995.477344</td>\n",
       "    </tr>\n",
       "    <tr>\n",
       "      <th>2000-04-13</th>\n",
       "      <td>6910.0</td>\n",
       "      <td>6910.0</td>\n",
       "      <td>6910.0</td>\n",
       "      <td>6910.0</td>\n",
       "      <td>5009.979004</td>\n",
       "      <td>0</td>\n",
       "      <td>5055.897624</td>\n",
       "      <td>5136.133887</td>\n",
       "    </tr>\n",
       "    <tr>\n",
       "      <th>2000-05-01</th>\n",
       "      <td>6000.0</td>\n",
       "      <td>6000.0</td>\n",
       "      <td>6000.0</td>\n",
       "      <td>6000.0</td>\n",
       "      <td>4350.199219</td>\n",
       "      <td>0</td>\n",
       "      <td>4205.192546</td>\n",
       "      <td>4152.989697</td>\n",
       "    </tr>\n",
       "    <tr>\n",
       "      <th>...</th>\n",
       "      <td>...</td>\n",
       "      <td>...</td>\n",
       "      <td>...</td>\n",
       "      <td>...</td>\n",
       "      <td>...</td>\n",
       "      <td>...</td>\n",
       "      <td>...</td>\n",
       "      <td>...</td>\n",
       "    </tr>\n",
       "    <tr>\n",
       "      <th>2022-02-28</th>\n",
       "      <td>71900.0</td>\n",
       "      <td>71900.0</td>\n",
       "      <td>71900.0</td>\n",
       "      <td>71900.0</td>\n",
       "      <td>68119.820312</td>\n",
       "      <td>0</td>\n",
       "      <td>67993.500000</td>\n",
       "      <td>68953.556250</td>\n",
       "    </tr>\n",
       "    <tr>\n",
       "      <th>2022-03-04</th>\n",
       "      <td>72900.0</td>\n",
       "      <td>72900.0</td>\n",
       "      <td>72900.0</td>\n",
       "      <td>72900.0</td>\n",
       "      <td>69067.257812</td>\n",
       "      <td>0</td>\n",
       "      <td>68688.281250</td>\n",
       "      <td>68460.896875</td>\n",
       "    </tr>\n",
       "    <tr>\n",
       "      <th>2022-03-10</th>\n",
       "      <td>69500.0</td>\n",
       "      <td>69500.0</td>\n",
       "      <td>69500.0</td>\n",
       "      <td>69500.0</td>\n",
       "      <td>65846.015625</td>\n",
       "      <td>0</td>\n",
       "      <td>66035.494792</td>\n",
       "      <td>67248.200000</td>\n",
       "    </tr>\n",
       "    <tr>\n",
       "      <th>2022-03-15</th>\n",
       "      <td>70200.0</td>\n",
       "      <td>70200.0</td>\n",
       "      <td>70200.0</td>\n",
       "      <td>70200.0</td>\n",
       "      <td>66509.210938</td>\n",
       "      <td>0</td>\n",
       "      <td>66446.044271</td>\n",
       "      <td>66206.032812</td>\n",
       "    </tr>\n",
       "    <tr>\n",
       "      <th>2022-03-17</th>\n",
       "      <td>70400.0</td>\n",
       "      <td>70400.0</td>\n",
       "      <td>70400.0</td>\n",
       "      <td>70400.0</td>\n",
       "      <td>66698.695312</td>\n",
       "      <td>0</td>\n",
       "      <td>66635.533854</td>\n",
       "      <td>66547.104688</td>\n",
       "    </tr>\n",
       "  </tbody>\n",
       "</table>\n",
       "<p>127 rows × 8 columns</p>\n",
       "</div>"
      ],
      "text/plain": [
       "               Open     High      Low    Close     Adj Close  Volume  \\\n",
       "Date                                                                   \n",
       "2000-02-04   5130.0   5130.0   5130.0   5130.0   3719.420166       0   \n",
       "2000-03-01   5120.0   5120.0   5120.0   5120.0   3712.168945       0   \n",
       "2000-04-05   6800.0   6800.0   6800.0   6800.0   4930.224609       0   \n",
       "2000-04-13   6910.0   6910.0   6910.0   6910.0   5009.979004       0   \n",
       "2000-05-01   6000.0   6000.0   6000.0   6000.0   4350.199219       0   \n",
       "...             ...      ...      ...      ...           ...     ...   \n",
       "2022-02-28  71900.0  71900.0  71900.0  71900.0  68119.820312       0   \n",
       "2022-03-04  72900.0  72900.0  72900.0  72900.0  69067.257812       0   \n",
       "2022-03-10  69500.0  69500.0  69500.0  69500.0  65846.015625       0   \n",
       "2022-03-15  70200.0  70200.0  70200.0  70200.0  66509.210938       0   \n",
       "2022-03-17  70400.0  70400.0  70400.0  70400.0  66698.695312       0   \n",
       "\n",
       "                     3MA           5MA  \n",
       "Date                                    \n",
       "2000-02-04   3748.420817   3829.624707  \n",
       "2000-03-01   3634.832275   3658.516455  \n",
       "2000-04-05   5002.728027   4995.477344  \n",
       "2000-04-13   5055.897624   5136.133887  \n",
       "2000-05-01   4205.192546   4152.989697  \n",
       "...                  ...           ...  \n",
       "2022-02-28  67993.500000  68953.556250  \n",
       "2022-03-04  68688.281250  68460.896875  \n",
       "2022-03-10  66035.494792  67248.200000  \n",
       "2022-03-15  66446.044271  66206.032812  \n",
       "2022-03-17  66635.533854  66547.104688  \n",
       "\n",
       "[127 rows x 8 columns]"
      ]
     },
     "execution_count": 46,
     "metadata": {},
     "output_type": "execute_result"
    }
   ],
   "source": [
    "df.loc[df['Volume']==0]"
   ]
  },
  {
   "cell_type": "code",
   "execution_count": 50,
   "id": "61550ff6-e47a-4185-a23f-cdc3fe1f5aae",
   "metadata": {},
   "outputs": [
    {
     "name": "stdout",
     "output_type": "stream",
     "text": [
      "Open: 0\n",
      "High: 0\n",
      "Low: 0\n",
      "Close: 0\n",
      "Adj Close: 0\n",
      "Volume: 127\n",
      "3MA: 0\n",
      "5MA: 0\n"
     ]
    }
   ],
   "source": [
    "# 각 column에 0 몇개인지 확인\n",
    "for col in df.columns:\n",
    "    missing_rows = df.loc[df[col]==0].shape[0]\n",
    "    print(col + ': ' + str(missing_rows))"
   ]
  },
  {
   "cell_type": "code",
   "execution_count": 54,
   "id": "2a9c24f1-2b7c-44b9-a643-524913d99e50",
   "metadata": {},
   "outputs": [
    {
     "name": "stdout",
     "output_type": "stream",
     "text": [
      "Open: 0\n",
      "High: 0\n",
      "Low: 0\n",
      "Close: 0\n",
      "Adj Close: 0\n",
      "Volume: 0\n",
      "3MA: 0\n",
      "5MA: 0\n"
     ]
    }
   ],
   "source": [
    "# 먼저 0 을 NaN 으로 바꾼후, Missing Data 처리\n",
    "df['Volume'] = df['Volume'].replace(0, np.nan)\n",
    "\n",
    "# 각 column에 0 몇개인지 확인\n",
    "\n",
    "for col in df.columns:\n",
    "    missing_rows = df.loc[df[col]==0].shape[0]\n",
    "    print(col + ': ' + str(missing_rows))"
   ]
  },
  {
   "cell_type": "code",
   "execution_count": 58,
   "id": "13478553-3b28-4289-b832-e03a51edc7de",
   "metadata": {},
   "outputs": [
    {
     "data": {
      "text/plain": [
       "Open           0\n",
       "High           0\n",
       "Low            0\n",
       "Close          0\n",
       "Adj Close      0\n",
       "Volume       127\n",
       "3MA            2\n",
       "5MA            4\n",
       "dtype: int64"
      ]
     },
     "execution_count": 58,
     "metadata": {},
     "output_type": "execute_result"
    }
   ],
   "source": [
    "# missing data 확인\n",
    "df.isnull().sum()"
   ]
  },
  {
   "cell_type": "code",
   "execution_count": 62,
   "id": "f6dbb028-0c30-4bc7-8cdd-6bc594c38a9c",
   "metadata": {},
   "outputs": [
    {
     "data": {
      "text/plain": [
       "Open         False\n",
       "High         False\n",
       "Low          False\n",
       "Close        False\n",
       "Adj Close    False\n",
       "Volume        True\n",
       "3MA           True\n",
       "5MA           True\n",
       "dtype: bool"
      ]
     },
     "execution_count": 62,
     "metadata": {},
     "output_type": "execute_result"
    }
   ],
   "source": [
    "df.isnull().any()"
   ]
  },
  {
   "cell_type": "code",
   "execution_count": 68,
   "id": "8a76faee-0e78-4bcd-ab09-9d7c529b2507",
   "metadata": {},
   "outputs": [
    {
     "data": {
      "text/html": [
       "<div>\n",
       "<style scoped>\n",
       "    .dataframe tbody tr th:only-of-type {\n",
       "        vertical-align: middle;\n",
       "    }\n",
       "\n",
       "    .dataframe tbody tr th {\n",
       "        vertical-align: top;\n",
       "    }\n",
       "\n",
       "    .dataframe thead th {\n",
       "        text-align: right;\n",
       "    }\n",
       "</style>\n",
       "<table border=\"1\" class=\"dataframe\">\n",
       "  <thead>\n",
       "    <tr style=\"text-align: right;\">\n",
       "      <th></th>\n",
       "      <th>Open</th>\n",
       "      <th>High</th>\n",
       "      <th>Low</th>\n",
       "      <th>Close</th>\n",
       "      <th>Adj Close</th>\n",
       "      <th>Volume</th>\n",
       "      <th>3MA</th>\n",
       "      <th>5MA</th>\n",
       "    </tr>\n",
       "    <tr>\n",
       "      <th>Date</th>\n",
       "      <th></th>\n",
       "      <th></th>\n",
       "      <th></th>\n",
       "      <th></th>\n",
       "      <th></th>\n",
       "      <th></th>\n",
       "      <th></th>\n",
       "      <th></th>\n",
       "    </tr>\n",
       "  </thead>\n",
       "  <tbody>\n",
       "    <tr>\n",
       "      <th>2000-02-04</th>\n",
       "      <td>5130.0</td>\n",
       "      <td>5130.0</td>\n",
       "      <td>5130.0</td>\n",
       "      <td>5130.0</td>\n",
       "      <td>3719.420166</td>\n",
       "      <td>NaN</td>\n",
       "      <td>3748.420817</td>\n",
       "      <td>3829.624707</td>\n",
       "    </tr>\n",
       "    <tr>\n",
       "      <th>2000-03-01</th>\n",
       "      <td>5120.0</td>\n",
       "      <td>5120.0</td>\n",
       "      <td>5120.0</td>\n",
       "      <td>5120.0</td>\n",
       "      <td>3712.168945</td>\n",
       "      <td>NaN</td>\n",
       "      <td>3634.832275</td>\n",
       "      <td>3658.516455</td>\n",
       "    </tr>\n",
       "    <tr>\n",
       "      <th>2000-04-05</th>\n",
       "      <td>6800.0</td>\n",
       "      <td>6800.0</td>\n",
       "      <td>6800.0</td>\n",
       "      <td>6800.0</td>\n",
       "      <td>4930.224609</td>\n",
       "      <td>NaN</td>\n",
       "      <td>5002.728027</td>\n",
       "      <td>4995.477344</td>\n",
       "    </tr>\n",
       "    <tr>\n",
       "      <th>2000-04-13</th>\n",
       "      <td>6910.0</td>\n",
       "      <td>6910.0</td>\n",
       "      <td>6910.0</td>\n",
       "      <td>6910.0</td>\n",
       "      <td>5009.979004</td>\n",
       "      <td>NaN</td>\n",
       "      <td>5055.897624</td>\n",
       "      <td>5136.133887</td>\n",
       "    </tr>\n",
       "    <tr>\n",
       "      <th>2000-05-01</th>\n",
       "      <td>6000.0</td>\n",
       "      <td>6000.0</td>\n",
       "      <td>6000.0</td>\n",
       "      <td>6000.0</td>\n",
       "      <td>4350.199219</td>\n",
       "      <td>NaN</td>\n",
       "      <td>4205.192546</td>\n",
       "      <td>4152.989697</td>\n",
       "    </tr>\n",
       "    <tr>\n",
       "      <th>...</th>\n",
       "      <td>...</td>\n",
       "      <td>...</td>\n",
       "      <td>...</td>\n",
       "      <td>...</td>\n",
       "      <td>...</td>\n",
       "      <td>...</td>\n",
       "      <td>...</td>\n",
       "      <td>...</td>\n",
       "    </tr>\n",
       "    <tr>\n",
       "      <th>2022-02-28</th>\n",
       "      <td>71900.0</td>\n",
       "      <td>71900.0</td>\n",
       "      <td>71900.0</td>\n",
       "      <td>71900.0</td>\n",
       "      <td>68119.820312</td>\n",
       "      <td>NaN</td>\n",
       "      <td>67993.500000</td>\n",
       "      <td>68953.556250</td>\n",
       "    </tr>\n",
       "    <tr>\n",
       "      <th>2022-03-04</th>\n",
       "      <td>72900.0</td>\n",
       "      <td>72900.0</td>\n",
       "      <td>72900.0</td>\n",
       "      <td>72900.0</td>\n",
       "      <td>69067.257812</td>\n",
       "      <td>NaN</td>\n",
       "      <td>68688.281250</td>\n",
       "      <td>68460.896875</td>\n",
       "    </tr>\n",
       "    <tr>\n",
       "      <th>2022-03-10</th>\n",
       "      <td>69500.0</td>\n",
       "      <td>69500.0</td>\n",
       "      <td>69500.0</td>\n",
       "      <td>69500.0</td>\n",
       "      <td>65846.015625</td>\n",
       "      <td>NaN</td>\n",
       "      <td>66035.494792</td>\n",
       "      <td>67248.200000</td>\n",
       "    </tr>\n",
       "    <tr>\n",
       "      <th>2022-03-15</th>\n",
       "      <td>70200.0</td>\n",
       "      <td>70200.0</td>\n",
       "      <td>70200.0</td>\n",
       "      <td>70200.0</td>\n",
       "      <td>66509.210938</td>\n",
       "      <td>NaN</td>\n",
       "      <td>66446.044271</td>\n",
       "      <td>66206.032812</td>\n",
       "    </tr>\n",
       "    <tr>\n",
       "      <th>2022-03-17</th>\n",
       "      <td>70400.0</td>\n",
       "      <td>70400.0</td>\n",
       "      <td>70400.0</td>\n",
       "      <td>70400.0</td>\n",
       "      <td>66698.695312</td>\n",
       "      <td>NaN</td>\n",
       "      <td>66635.533854</td>\n",
       "      <td>66547.104688</td>\n",
       "    </tr>\n",
       "  </tbody>\n",
       "</table>\n",
       "<p>127 rows × 8 columns</p>\n",
       "</div>"
      ],
      "text/plain": [
       "               Open     High      Low    Close     Adj Close  Volume  \\\n",
       "Date                                                                   \n",
       "2000-02-04   5130.0   5130.0   5130.0   5130.0   3719.420166     NaN   \n",
       "2000-03-01   5120.0   5120.0   5120.0   5120.0   3712.168945     NaN   \n",
       "2000-04-05   6800.0   6800.0   6800.0   6800.0   4930.224609     NaN   \n",
       "2000-04-13   6910.0   6910.0   6910.0   6910.0   5009.979004     NaN   \n",
       "2000-05-01   6000.0   6000.0   6000.0   6000.0   4350.199219     NaN   \n",
       "...             ...      ...      ...      ...           ...     ...   \n",
       "2022-02-28  71900.0  71900.0  71900.0  71900.0  68119.820312     NaN   \n",
       "2022-03-04  72900.0  72900.0  72900.0  72900.0  69067.257812     NaN   \n",
       "2022-03-10  69500.0  69500.0  69500.0  69500.0  65846.015625     NaN   \n",
       "2022-03-15  70200.0  70200.0  70200.0  70200.0  66509.210938     NaN   \n",
       "2022-03-17  70400.0  70400.0  70400.0  70400.0  66698.695312     NaN   \n",
       "\n",
       "                     3MA           5MA  \n",
       "Date                                    \n",
       "2000-02-04   3748.420817   3829.624707  \n",
       "2000-03-01   3634.832275   3658.516455  \n",
       "2000-04-05   5002.728027   4995.477344  \n",
       "2000-04-13   5055.897624   5136.133887  \n",
       "2000-05-01   4205.192546   4152.989697  \n",
       "...                  ...           ...  \n",
       "2022-02-28  67993.500000  68953.556250  \n",
       "2022-03-04  68688.281250  68460.896875  \n",
       "2022-03-10  66035.494792  67248.200000  \n",
       "2022-03-15  66446.044271  66206.032812  \n",
       "2022-03-17  66635.533854  66547.104688  \n",
       "\n",
       "[127 rows x 8 columns]"
      ]
     },
     "execution_count": 68,
     "metadata": {},
     "output_type": "execute_result"
    }
   ],
   "source": [
    "df.loc[df['Volume'].isna()]"
   ]
  },
  {
   "cell_type": "code",
   "execution_count": 70,
   "id": "be48756e-bceb-4289-9454-98f7c6a08fb9",
   "metadata": {},
   "outputs": [
    {
     "data": {
      "text/plain": [
       "Open         0\n",
       "High         0\n",
       "Low          0\n",
       "Close        0\n",
       "Adj Close    0\n",
       "Volume       0\n",
       "3MA          0\n",
       "5MA          0\n",
       "dtype: int64"
      ]
     },
     "execution_count": 70,
     "metadata": {},
     "output_type": "execute_result"
    }
   ],
   "source": [
    "# missing data 처리\n",
    "df = df.dropna()\n",
    "df.isnull().sum()"
   ]
  },
  {
   "cell_type": "code",
   "execution_count": 72,
   "id": "434975fa-79a1-4d74-ac86-435303701e6a",
   "metadata": {},
   "outputs": [
    {
     "name": "stdout",
     "output_type": "stream",
     "text": [
      "          Open      High       Low     Close  Adj Close       3MA       5MA  \\\n",
      "0     0.034868  0.032008  0.036288  0.034440   0.025683  0.024137  0.024544   \n",
      "1     0.037375  0.035517  0.038470  0.034440   0.025683  0.024560  0.023968   \n",
      "2     0.034982  0.031689  0.036518  0.033873   0.025260  0.025067  0.024205   \n",
      "3     0.034868  0.031689  0.036059  0.033760   0.025176  0.024898  0.024358   \n",
      "4     0.036235  0.033177  0.037437  0.035120   0.026190  0.025067  0.024850   \n",
      "...        ...       ...       ...       ...        ...       ...       ...   \n",
      "6046  0.860985  0.802212  0.844970  0.831200   0.863669  0.879050  0.886768   \n",
      "6047  0.833637  0.784134  0.840377  0.827801   0.860174  0.869328  0.879515   \n",
      "6048  0.834777  0.783071  0.838080  0.834598   0.867165  0.864272  0.875070   \n",
      "6049  0.809708  0.764994  0.816261  0.807409   0.839200  0.856105  0.865011   \n",
      "6050  0.818824  0.768184  0.823151  0.810808   0.842695  0.850271  0.857056   \n",
      "\n",
      "        Volume  \n",
      "0     0.285359  \n",
      "1     0.363715  \n",
      "2     0.177799  \n",
      "3     0.250704  \n",
      "4     0.300555  \n",
      "...        ...  \n",
      "6046  0.095186  \n",
      "6047  0.067621  \n",
      "6048  0.059486  \n",
      "6049  0.102668  \n",
      "6050  0.099465  \n",
      "\n",
      "[6051 rows x 8 columns]\n"
     ]
    }
   ],
   "source": [
    "# 정규화 (Date 제외한 모든 수치부분 정규화)\n",
    "from sklearn.preprocessing import MinMaxScaler\n",
    "scaler = MinMaxScaler()\n",
    "\n",
    "scale_cols = ['Open', 'High', 'Low', 'Close', 'Adj Close',\n",
    "              '3MA', '5MA', 'Volume'] #정규화할 대상 column 정의\n",
    "scaled_df = scaler.fit_transform(df[scale_cols])\n",
    "scaled_df = pd.DataFrame(scaled_df, columns=scale_cols) #넘파이를 dataframe화\n",
    "\n",
    "print(scaled_df) #numpy값으로 리턴하고 있음"
   ]
  },
  {
   "cell_type": "markdown",
   "id": "f1d6bd13-a54a-42e0-8042-5c0f3dedaa60",
   "metadata": {},
   "source": [
    "### 딥러닝을 위한 input data/output data /window size 정의"
   ]
  },
  {
   "cell_type": "markdown",
   "id": "58eb744c-9ae0-4b1b-8391-32a95de40977",
   "metadata": {},
   "source": [
    "주가예측을 위해 '임의로' 3MA, 5MA, Adj Close 항목을 feature 선정\n",
    "정답은 Adj Close 선정, 시계열 데이터를 위한 window_size = 40 선정"
   ]
  },
  {
   "cell_type": "code",
   "execution_count": 75,
   "id": "2d3bd6b4-524d-4aa5-b286-783975444ab0",
   "metadata": {},
   "outputs": [
    {
     "name": "stdout",
     "output_type": "stream",
     "text": [
      "           3MA       5MA  Adj Close\n",
      "0     0.024137  0.024544   0.025683\n",
      "1     0.024560  0.023968   0.025683\n",
      "2     0.025067  0.024205   0.025260\n",
      "3     0.024898  0.024358   0.025176\n",
      "4     0.025067  0.024850   0.026190\n",
      "...        ...       ...        ...\n",
      "6046  0.879050  0.886768   0.863669\n",
      "6047  0.869328  0.879515   0.860174\n",
      "6048  0.864272  0.875070   0.867165\n",
      "6049  0.856105  0.865011   0.839200\n",
      "6050  0.850271  0.857056   0.842695\n",
      "\n",
      "[6051 rows x 3 columns]\n",
      "      Adj Close\n",
      "0      0.025683\n",
      "1      0.025683\n",
      "2      0.025260\n",
      "3      0.025176\n",
      "4      0.026190\n",
      "...         ...\n",
      "6046   0.863669\n",
      "6047   0.860174\n",
      "6048   0.867165\n",
      "6049   0.839200\n",
      "6050   0.842695\n",
      "\n",
      "[6051 rows x 1 columns]\n"
     ]
    }
   ],
   "source": [
    "# feature_df, label_df 생성\n",
    "feature_cols = [ '3MA', '5MA', 'Adj Close' ]\n",
    "label_cols = [ 'Adj Close' ]\n",
    "\n",
    "\n",
    "label_df = pd.DataFrame(scaled_df, columns=label_cols)\n",
    "feature_df = pd.DataFrame(scaled_df, columns=feature_cols)\n",
    "\n",
    "print(feature_df)\n",
    "print(label_df)"
   ]
  },
  {
   "cell_type": "code",
   "execution_count": 83,
   "id": "c844b68c-98b1-4b20-83e8-5aa361de2d1e",
   "metadata": {},
   "outputs": [
    {
     "name": "stdout",
     "output_type": "stream",
     "text": [
      "(6051, 3) (6051, 1)\n"
     ]
    }
   ],
   "source": [
    "# 딥러닝 학습을 위해 dataframe -> numpy로 변환\n",
    "label_np=label_df.to_numpy()\n",
    "feature_np=feature_df.to_numpy()\n",
    "print(feature_np.shape, label_np.shape)"
   ]
  },
  {
   "cell_type": "markdown",
   "id": "b11445fa-5931-4b9f-bc99-759d109befb8",
   "metadata": {},
   "source": [
    "### 시계열 데이터 생성 (make_sequence_dataset)"
   ]
  },
  {
   "cell_type": "code",
   "execution_count": 92,
   "id": "9defaada-7b75-4148-8e6d-c466dd54e3f5",
   "metadata": {},
   "outputs": [],
   "source": [
    "# 입력 파라미터 feature, label => numpy type\n",
    "\n",
    "def make_sequene_dataset(feature, label, window_size):\n",
    "\n",
    "    feature_list = []      # 생성될 feature list\n",
    "    label_list = []        # 생성될 label list\n",
    "\n",
    "    for i in range(len(feature)-window_size):\n",
    "\n",
    "        feature_list.append(feature[i:i+window_size])\n",
    "        label_list.append(label[i+window_size])\n",
    "\n",
    "    return np.array(feature_list), np.array(label_list)"
   ]
  },
  {
   "cell_type": "code",
   "execution_count": 96,
   "id": "e7d9dc04-af90-4e4e-aa01-489727acc302",
   "metadata": {},
   "outputs": [
    {
     "name": "stdout",
     "output_type": "stream",
     "text": [
      "(6011, 40, 3) (6011, 1)\n"
     ]
    }
   ],
   "source": [
    "window_size=40\n",
    "X, Y = make_sequene_dataset(feature_np, label_np, window_size)\n",
    "print(X.shape,Y.shape)"
   ]
  },
  {
   "cell_type": "markdown",
   "id": "0e8795f8-42fe-4f2e-9fb8-69c0a9abfd11",
   "metadata": {},
   "source": [
    "### traning/test data split"
   ]
  },
  {
   "cell_type": "code",
   "execution_count": 101,
   "id": "d9bedae0-b1bb-4e0f-8d31-91b03cfaf78a",
   "metadata": {},
   "outputs": [
    {
     "name": "stdout",
     "output_type": "stream",
     "text": [
      "(5710, 40, 3) (5710, 1)\n",
      "(301, 40, 3) (301, 1)\n"
     ]
    }
   ],
   "source": [
    "# train, test 분리\n",
    "\n",
    "#split = int(len(X)*0.95)\n",
    "split = int(len(X)*0.95)\n",
    "\n",
    "x_train = X[0:split]\n",
    "y_train = Y[0:split]\n",
    "\n",
    "x_test = X[split:]\n",
    "y_test = Y[split:]\n",
    "\n",
    "print(x_train.shape, y_train.shape)\n",
    "print(x_test.shape, y_test.shape)"
   ]
  },
  {
   "cell_type": "markdown",
   "id": "8f1404b4-df97-4a5e-b234-571907d48914",
   "metadata": {},
   "source": [
    "### LSTM 모델 구축"
   ]
  },
  {
   "cell_type": "code",
   "execution_count": 105,
   "id": "39661b72-e351-4cc2-9a28-3141d19746b4",
   "metadata": {},
   "outputs": [],
   "source": [
    "model=Sequential()"
   ]
  },
  {
   "cell_type": "code",
   "execution_count": 107,
   "id": "745051b5-2d7e-4408-b0f1-c5f64d2c0e58",
   "metadata": {},
   "outputs": [
    {
     "name": "stderr",
     "output_type": "stream",
     "text": [
      "/opt/anaconda3/lib/python3.12/site-packages/keras/src/layers/rnn/rnn.py:204: UserWarning: Do not pass an `input_shape`/`input_dim` argument to a layer. When using Sequential models, prefer using an `Input(shape)` object as the first layer in the model instead.\n",
      "  super().__init__(**kwargs)\n"
     ]
    },
    {
     "data": {
      "text/html": [
       "<pre style=\"white-space:pre;overflow-x:auto;line-height:normal;font-family:Menlo,'DejaVu Sans Mono',consolas,'Courier New',monospace\"><span style=\"font-weight: bold\">Model: \"sequential\"</span>\n",
       "</pre>\n"
      ],
      "text/plain": [
       "\u001b[1mModel: \"sequential\"\u001b[0m\n"
      ]
     },
     "metadata": {},
     "output_type": "display_data"
    },
    {
     "data": {
      "text/html": [
       "<pre style=\"white-space:pre;overflow-x:auto;line-height:normal;font-family:Menlo,'DejaVu Sans Mono',consolas,'Courier New',monospace\">┏━━━━━━━━━━━━━━━━━━━━━━━━━━━━━━━━━┳━━━━━━━━━━━━━━━━━━━━━━━━┳━━━━━━━━━━━━━━━┓\n",
       "┃<span style=\"font-weight: bold\"> Layer (type)                    </span>┃<span style=\"font-weight: bold\"> Output Shape           </span>┃<span style=\"font-weight: bold\">       Param # </span>┃\n",
       "┡━━━━━━━━━━━━━━━━━━━━━━━━━━━━━━━━━╇━━━━━━━━━━━━━━━━━━━━━━━━╇━━━━━━━━━━━━━━━┩\n",
       "│ lstm (<span style=\"color: #0087ff; text-decoration-color: #0087ff\">LSTM</span>)                     │ (<span style=\"color: #00d7ff; text-decoration-color: #00d7ff\">None</span>, <span style=\"color: #00af00; text-decoration-color: #00af00\">128</span>)            │        <span style=\"color: #00af00; text-decoration-color: #00af00\">67,584</span> │\n",
       "├─────────────────────────────────┼────────────────────────┼───────────────┤\n",
       "│ dense (<span style=\"color: #0087ff; text-decoration-color: #0087ff\">Dense</span>)                   │ (<span style=\"color: #00d7ff; text-decoration-color: #00d7ff\">None</span>, <span style=\"color: #00af00; text-decoration-color: #00af00\">1</span>)              │           <span style=\"color: #00af00; text-decoration-color: #00af00\">129</span> │\n",
       "└─────────────────────────────────┴────────────────────────┴───────────────┘\n",
       "</pre>\n"
      ],
      "text/plain": [
       "┏━━━━━━━━━━━━━━━━━━━━━━━━━━━━━━━━━┳━━━━━━━━━━━━━━━━━━━━━━━━┳━━━━━━━━━━━━━━━┓\n",
       "┃\u001b[1m \u001b[0m\u001b[1mLayer (type)                   \u001b[0m\u001b[1m \u001b[0m┃\u001b[1m \u001b[0m\u001b[1mOutput Shape          \u001b[0m\u001b[1m \u001b[0m┃\u001b[1m \u001b[0m\u001b[1m      Param #\u001b[0m\u001b[1m \u001b[0m┃\n",
       "┡━━━━━━━━━━━━━━━━━━━━━━━━━━━━━━━━━╇━━━━━━━━━━━━━━━━━━━━━━━━╇━━━━━━━━━━━━━━━┩\n",
       "│ lstm (\u001b[38;5;33mLSTM\u001b[0m)                     │ (\u001b[38;5;45mNone\u001b[0m, \u001b[38;5;34m128\u001b[0m)            │        \u001b[38;5;34m67,584\u001b[0m │\n",
       "├─────────────────────────────────┼────────────────────────┼───────────────┤\n",
       "│ dense (\u001b[38;5;33mDense\u001b[0m)                   │ (\u001b[38;5;45mNone\u001b[0m, \u001b[38;5;34m1\u001b[0m)              │           \u001b[38;5;34m129\u001b[0m │\n",
       "└─────────────────────────────────┴────────────────────────┴───────────────┘\n"
      ]
     },
     "metadata": {},
     "output_type": "display_data"
    },
    {
     "data": {
      "text/html": [
       "<pre style=\"white-space:pre;overflow-x:auto;line-height:normal;font-family:Menlo,'DejaVu Sans Mono',consolas,'Courier New',monospace\"><span style=\"font-weight: bold\"> Total params: </span><span style=\"color: #00af00; text-decoration-color: #00af00\">67,713</span> (264.50 KB)\n",
       "</pre>\n"
      ],
      "text/plain": [
       "\u001b[1m Total params: \u001b[0m\u001b[38;5;34m67,713\u001b[0m (264.50 KB)\n"
      ]
     },
     "metadata": {},
     "output_type": "display_data"
    },
    {
     "data": {
      "text/html": [
       "<pre style=\"white-space:pre;overflow-x:auto;line-height:normal;font-family:Menlo,'DejaVu Sans Mono',consolas,'Courier New',monospace\"><span style=\"font-weight: bold\"> Trainable params: </span><span style=\"color: #00af00; text-decoration-color: #00af00\">67,713</span> (264.50 KB)\n",
       "</pre>\n"
      ],
      "text/plain": [
       "\u001b[1m Trainable params: \u001b[0m\u001b[38;5;34m67,713\u001b[0m (264.50 KB)\n"
      ]
     },
     "metadata": {},
     "output_type": "display_data"
    },
    {
     "data": {
      "text/html": [
       "<pre style=\"white-space:pre;overflow-x:auto;line-height:normal;font-family:Menlo,'DejaVu Sans Mono',consolas,'Courier New',monospace\"><span style=\"font-weight: bold\"> Non-trainable params: </span><span style=\"color: #00af00; text-decoration-color: #00af00\">0</span> (0.00 B)\n",
       "</pre>\n"
      ],
      "text/plain": [
       "\u001b[1m Non-trainable params: \u001b[0m\u001b[38;5;34m0\u001b[0m (0.00 B)\n"
      ]
     },
     "metadata": {},
     "output_type": "display_data"
    }
   ],
   "source": [
    "model.add(LSTM(128, activation='tanh', #LSTM계층에 Tanh를 활성화함수로 가지는 노드수 128개 \n",
    "               input_shape=x_train[0].shape)) #input shape=(40,3) \n",
    "model.add(Dense(1, activation='linear'))\n",
    "model.summary()"
   ]
  },
  {
   "cell_type": "code",
   "execution_count": 113,
   "id": "aca50920-5eec-4877-bc50-2ea54cdf92b6",
   "metadata": {},
   "outputs": [
    {
     "name": "stdout",
     "output_type": "stream",
     "text": [
      "Epoch 1/100\n",
      "\u001b[1m357/357\u001b[0m \u001b[32m━━━━━━━━━━━━━━━━━━━━\u001b[0m\u001b[37m\u001b[0m \u001b[1m4s\u001b[0m 9ms/step - loss: 0.0044 - mae: 0.0276 - val_loss: 0.0011 - val_mae: 0.0265\n",
      "Epoch 2/100\n",
      "\u001b[1m357/357\u001b[0m \u001b[32m━━━━━━━━━━━━━━━━━━━━\u001b[0m\u001b[37m\u001b[0m \u001b[1m3s\u001b[0m 10ms/step - loss: 1.4270e-04 - mae: 0.0073 - val_loss: 6.8062e-04 - val_mae: 0.0195\n",
      "Epoch 3/100\n",
      "\u001b[1m357/357\u001b[0m \u001b[32m━━━━━━━━━━━━━━━━━━━━\u001b[0m\u001b[37m\u001b[0m \u001b[1m3s\u001b[0m 10ms/step - loss: 1.3870e-04 - mae: 0.0072 - val_loss: 5.7329e-04 - val_mae: 0.0178\n",
      "Epoch 4/100\n",
      "\u001b[1m357/357\u001b[0m \u001b[32m━━━━━━━━━━━━━━━━━━━━\u001b[0m\u001b[37m\u001b[0m \u001b[1m3s\u001b[0m 9ms/step - loss: 1.2397e-04 - mae: 0.0070 - val_loss: 5.9839e-04 - val_mae: 0.0184\n",
      "Epoch 5/100\n",
      "\u001b[1m357/357\u001b[0m \u001b[32m━━━━━━━━━━━━━━━━━━━━\u001b[0m\u001b[37m\u001b[0m \u001b[1m3s\u001b[0m 10ms/step - loss: 1.0871e-04 - mae: 0.0066 - val_loss: 6.4778e-04 - val_mae: 0.0201\n",
      "Epoch 6/100\n",
      "\u001b[1m357/357\u001b[0m \u001b[32m━━━━━━━━━━━━━━━━━━━━\u001b[0m\u001b[37m\u001b[0m \u001b[1m3s\u001b[0m 9ms/step - loss: 1.1769e-04 - mae: 0.0070 - val_loss: 9.7169e-04 - val_mae: 0.0259\n",
      "Epoch 7/100\n",
      "\u001b[1m357/357\u001b[0m \u001b[32m━━━━━━━━━━━━━━━━━━━━\u001b[0m\u001b[37m\u001b[0m \u001b[1m3s\u001b[0m 9ms/step - loss: 1.1118e-04 - mae: 0.0066 - val_loss: 4.7291e-04 - val_mae: 0.0168\n",
      "Epoch 8/100\n",
      "\u001b[1m357/357\u001b[0m \u001b[32m━━━━━━━━━━━━━━━━━━━━\u001b[0m\u001b[37m\u001b[0m \u001b[1m4s\u001b[0m 10ms/step - loss: 8.3971e-05 - mae: 0.0058 - val_loss: 3.9533e-04 - val_mae: 0.0145\n",
      "Epoch 9/100\n",
      "\u001b[1m357/357\u001b[0m \u001b[32m━━━━━━━━━━━━━━━━━━━━\u001b[0m\u001b[37m\u001b[0m \u001b[1m3s\u001b[0m 10ms/step - loss: 7.6921e-05 - mae: 0.0056 - val_loss: 3.2770e-04 - val_mae: 0.0131\n",
      "Epoch 10/100\n",
      "\u001b[1m357/357\u001b[0m \u001b[32m━━━━━━━━━━━━━━━━━━━━\u001b[0m\u001b[37m\u001b[0m \u001b[1m3s\u001b[0m 10ms/step - loss: 6.4829e-05 - mae: 0.0052 - val_loss: 4.4138e-04 - val_mae: 0.0164\n",
      "Epoch 11/100\n",
      "\u001b[1m357/357\u001b[0m \u001b[32m━━━━━━━━━━━━━━━━━━━━\u001b[0m\u001b[37m\u001b[0m \u001b[1m3s\u001b[0m 10ms/step - loss: 6.1281e-05 - mae: 0.0050 - val_loss: 6.4215e-04 - val_mae: 0.0209\n",
      "Epoch 12/100\n",
      "\u001b[1m357/357\u001b[0m \u001b[32m━━━━━━━━━━━━━━━━━━━━\u001b[0m\u001b[37m\u001b[0m \u001b[1m3s\u001b[0m 10ms/step - loss: 6.4358e-05 - mae: 0.0053 - val_loss: 3.0170e-04 - val_mae: 0.0125\n",
      "Epoch 13/100\n",
      "\u001b[1m357/357\u001b[0m \u001b[32m━━━━━━━━━━━━━━━━━━━━\u001b[0m\u001b[37m\u001b[0m \u001b[1m4s\u001b[0m 10ms/step - loss: 5.7613e-05 - mae: 0.0050 - val_loss: 2.5704e-04 - val_mae: 0.0113\n",
      "Epoch 14/100\n",
      "\u001b[1m357/357\u001b[0m \u001b[32m━━━━━━━━━━━━━━━━━━━━\u001b[0m\u001b[37m\u001b[0m \u001b[1m4s\u001b[0m 10ms/step - loss: 6.2488e-05 - mae: 0.0052 - val_loss: 2.5533e-04 - val_mae: 0.0114\n",
      "Epoch 15/100\n",
      "\u001b[1m357/357\u001b[0m \u001b[32m━━━━━━━━━━━━━━━━━━━━\u001b[0m\u001b[37m\u001b[0m \u001b[1m3s\u001b[0m 9ms/step - loss: 5.3192e-05 - mae: 0.0047 - val_loss: 2.4191e-04 - val_mae: 0.0111\n",
      "Epoch 16/100\n",
      "\u001b[1m357/357\u001b[0m \u001b[32m━━━━━━━━━━━━━━━━━━━━\u001b[0m\u001b[37m\u001b[0m \u001b[1m3s\u001b[0m 9ms/step - loss: 5.2718e-05 - mae: 0.0048 - val_loss: 3.8426e-04 - val_mae: 0.0152\n",
      "Epoch 17/100\n",
      "\u001b[1m357/357\u001b[0m \u001b[32m━━━━━━━━━━━━━━━━━━━━\u001b[0m\u001b[37m\u001b[0m \u001b[1m3s\u001b[0m 9ms/step - loss: 4.7251e-05 - mae: 0.0044 - val_loss: 2.8400e-04 - val_mae: 0.0128\n",
      "Epoch 18/100\n",
      "\u001b[1m357/357\u001b[0m \u001b[32m━━━━━━━━━━━━━━━━━━━━\u001b[0m\u001b[37m\u001b[0m \u001b[1m3s\u001b[0m 9ms/step - loss: 5.1633e-05 - mae: 0.0047 - val_loss: 2.4313e-04 - val_mae: 0.0113\n",
      "Epoch 19/100\n",
      "\u001b[1m357/357\u001b[0m \u001b[32m━━━━━━━━━━━━━━━━━━━━\u001b[0m\u001b[37m\u001b[0m \u001b[1m3s\u001b[0m 9ms/step - loss: 4.4521e-05 - mae: 0.0043 - val_loss: 2.4277e-04 - val_mae: 0.0114\n",
      "Epoch 20/100\n",
      "\u001b[1m357/357\u001b[0m \u001b[32m━━━━━━━━━━━━━━━━━━━━\u001b[0m\u001b[37m\u001b[0m \u001b[1m3s\u001b[0m 9ms/step - loss: 4.2210e-05 - mae: 0.0042 - val_loss: 4.5348e-04 - val_mae: 0.0175\n"
     ]
    },
    {
     "data": {
      "text/plain": [
       "<keras.src.callbacks.history.History at 0x287c5bbf0>"
      ]
     },
     "execution_count": 113,
     "metadata": {},
     "output_type": "execute_result"
    }
   ],
   "source": [
    "from tensorflow.keras.callbacks import EarlyStopping\n",
    "\n",
    "model.compile(loss='mse', optimizer='adam', metrics=['mae'])\n",
    "early_stop=EarlyStopping(monitor='val_loss',patience=5)\n",
    "model.fit(x_train,y_train,validation_data=(x_test,y_test),epochs=100,batch_size=16,callbacks=[early_stop])"
   ]
  },
  {
   "cell_type": "code",
   "execution_count": 115,
   "id": "8acaf3be-d264-4d0c-b2c1-abd5d9296b05",
   "metadata": {},
   "outputs": [
    {
     "name": "stdout",
     "output_type": "stream",
     "text": [
      "\u001b[1m10/10\u001b[0m \u001b[32m━━━━━━━━━━━━━━━━━━━━\u001b[0m\u001b[37m\u001b[0m \u001b[1m0s\u001b[0m 10ms/step\n"
     ]
    },
    {
     "data": {
      "image/png": "[encoded data removed]",
      "text/plain": [
       "<Figure size 1200x600 with 1 Axes>"
      ]
     },
     "metadata": {},
     "output_type": "display_data"
    }
   ],
   "source": [
    "pred = model.predict(x_test)\n",
    "\n",
    "plt.figure(figsize=(12, 6))\n",
    "plt.title('3MA + 5MA + Adj Close, window_size=40')\n",
    "plt.ylabel('adj close')\n",
    "plt.xlabel('period')\n",
    "plt.plot(y_test, label='actual')\n",
    "plt.plot(pred, label='prediction')\n",
    "plt.grid()\n",
    "plt.legend(loc='best')\n",
    "\n",
    "plt.show()"
   ]
  },
  {
   "cell_type": "code",
   "execution_count": null,
   "id": "e9125704-8653-4b4f-98c3-6f3fc3a8e064",
   "metadata": {},
   "outputs": [],
   "source": []
  }
 ],
 "metadata": {
  "kernelspec": {
   "display_name": "Python 3 (ipykernel)",
   "language": "python",
   "name": "python3"
  },
  "language_info": {
   "codemirror_mode": {
    "name": "ipython",
    "version": 3
   },
   "file_extension": ".py",
   "mimetype": "text/x-python",
   "name": "python",
   "nbconvert_exporter": "python",
   "pygments_lexer": "ipython3",
   "version": "3.12.4"
  }
 },
 "nbformat": 4,
 "nbformat_minor": 5
}
